{
 "cells": [
  {
   "cell_type": "code",
   "execution_count": 1,
   "metadata": {},
   "outputs": [],
   "source": [
    "import numpy as np\n",
    "import pandas as pd\n",
    "import matplotlib.pyplot as plt\n",
    "plt.rcParams['font.sans-serif']=['simhei']\n",
    "%matplotlib inline"
   ]
  },
  {
   "cell_type": "code",
   "execution_count": 2,
   "metadata": {},
   "outputs": [],
   "source": [
    "ex0 = pd.read_table('ex0.txt',header=None)"
   ]
  },
  {
   "cell_type": "code",
   "execution_count": 3,
   "metadata": {},
   "outputs": [
    {
     "data": {
      "text/html": [
       "<div>\n",
       "<style scoped>\n",
       "    .dataframe tbody tr th:only-of-type {\n",
       "        vertical-align: middle;\n",
       "    }\n",
       "\n",
       "    .dataframe tbody tr th {\n",
       "        vertical-align: top;\n",
       "    }\n",
       "\n",
       "    .dataframe thead th {\n",
       "        text-align: right;\n",
       "    }\n",
       "</style>\n",
       "<table border=\"1\" class=\"dataframe\">\n",
       "  <thead>\n",
       "    <tr style=\"text-align: right;\">\n",
       "      <th></th>\n",
       "      <th>0</th>\n",
       "      <th>1</th>\n",
       "      <th>2</th>\n",
       "    </tr>\n",
       "  </thead>\n",
       "  <tbody>\n",
       "    <tr>\n",
       "      <th>0</th>\n",
       "      <td>1.0</td>\n",
       "      <td>0.067732</td>\n",
       "      <td>3.176513</td>\n",
       "    </tr>\n",
       "    <tr>\n",
       "      <th>1</th>\n",
       "      <td>1.0</td>\n",
       "      <td>0.427810</td>\n",
       "      <td>3.816464</td>\n",
       "    </tr>\n",
       "    <tr>\n",
       "      <th>2</th>\n",
       "      <td>1.0</td>\n",
       "      <td>0.995731</td>\n",
       "      <td>4.550095</td>\n",
       "    </tr>\n",
       "    <tr>\n",
       "      <th>3</th>\n",
       "      <td>1.0</td>\n",
       "      <td>0.738336</td>\n",
       "      <td>4.256571</td>\n",
       "    </tr>\n",
       "    <tr>\n",
       "      <th>4</th>\n",
       "      <td>1.0</td>\n",
       "      <td>0.981083</td>\n",
       "      <td>4.560815</td>\n",
       "    </tr>\n",
       "  </tbody>\n",
       "</table>\n",
       "</div>"
      ],
      "text/plain": [
       "     0         1         2\n",
       "0  1.0  0.067732  3.176513\n",
       "1  1.0  0.427810  3.816464\n",
       "2  1.0  0.995731  4.550095\n",
       "3  1.0  0.738336  4.256571\n",
       "4  1.0  0.981083  4.560815"
      ]
     },
     "execution_count": 3,
     "metadata": {},
     "output_type": "execute_result"
    }
   ],
   "source": [
    "ex0.head()"
   ]
  },
  {
   "cell_type": "code",
   "execution_count": 4,
   "metadata": {},
   "outputs": [
    {
     "data": {
      "text/plain": [
       "(200, 3)"
      ]
     },
     "execution_count": 4,
     "metadata": {},
     "output_type": "execute_result"
    }
   ],
   "source": [
    "ex0.shape"
   ]
  },
  {
   "cell_type": "code",
   "execution_count": 5,
   "metadata": {},
   "outputs": [],
   "source": [
    "def get_Mat(dataSet):\n",
    "    xMat = np.mat(dataSet.iloc[:,:-1].values)\n",
    "    yMat = np.mat(dataSet.iloc[:,-1].values).T\n",
    "    return xMat,yMat"
   ]
  },
  {
   "cell_type": "code",
   "execution_count": 6,
   "metadata": {},
   "outputs": [],
   "source": [
    "xMat,yMat=get_Mat(ex0)"
   ]
  },
  {
   "cell_type": "code",
   "execution_count": 8,
   "metadata": {},
   "outputs": [
    {
     "data": {
      "text/plain": [
       "matrix([[1.      , 0.067732],\n",
       "        [1.      , 0.42781 ],\n",
       "        [1.      , 0.995731],\n",
       "        [1.      , 0.738336],\n",
       "        [1.      , 0.981083],\n",
       "        [1.      , 0.526171],\n",
       "        [1.      , 0.378887],\n",
       "        [1.      , 0.033859],\n",
       "        [1.      , 0.132791],\n",
       "        [1.      , 0.138306]])"
      ]
     },
     "execution_count": 8,
     "metadata": {},
     "output_type": "execute_result"
    }
   ],
   "source": [
    "xMat[:10]"
   ]
  },
  {
   "cell_type": "code",
   "execution_count": 9,
   "metadata": {},
   "outputs": [
    {
     "data": {
      "text/plain": [
       "matrix([[3.176513],\n",
       "        [3.816464],\n",
       "        [4.550095],\n",
       "        [4.256571],\n",
       "        [4.560815],\n",
       "        [3.929515],\n",
       "        [3.52617 ],\n",
       "        [3.156393],\n",
       "        [3.110301],\n",
       "        [3.149813]])"
      ]
     },
     "execution_count": 9,
     "metadata": {},
     "output_type": "execute_result"
    }
   ],
   "source": [
    "yMat[:10]"
   ]
  },
  {
   "cell_type": "code",
   "execution_count": 15,
   "metadata": {},
   "outputs": [],
   "source": [
    "def plotShow(dataSet):\n",
    "    xMat,yMat=get_Mat(dataSet)\n",
    "    plt.scatter(xMat.A[:,1],yMat.A,c='b',s=5)\n",
    "    plt.show()"
   ]
  },
  {
   "cell_type": "code",
   "execution_count": 16,
   "metadata": {},
   "outputs": [
    {
     "data": {
      "image/png": "[encoded data removed]",
      "text/plain": [
       "<Figure size 432x288 with 1 Axes>"
      ]
     },
     "metadata": {},
     "output_type": "display_data"
    }
   ],
   "source": [
    "plotShow(ex0)"
   ]
  },
  {
   "cell_type": "code",
   "execution_count": 17,
   "metadata": {},
   "outputs": [],
   "source": [
    "def standRegres(dataSet):\n",
    "    xMat,yMat =get_Mat(dataSet)\n",
    "    xTx = xMat.T*xMat\n",
    "    if np.linalg.det(xTx)==0:                \n",
    "        print('矩阵为奇异矩阵，无法求逆')\n",
    "        return\n",
    "    ws=xTx.I*(xMat.T*yMat)\n",
    "    return ws"
   ]
  },
  {
   "cell_type": "code",
   "execution_count": 18,
   "metadata": {},
   "outputs": [],
   "source": [
    "ws=standRegres(ex0)"
   ]
  },
  {
   "cell_type": "code",
   "execution_count": 19,
   "metadata": {},
   "outputs": [
    {
     "data": {
      "text/plain": [
       "matrix([[3.00774324],\n",
       "        [1.69532264]])"
      ]
     },
     "execution_count": 19,
     "metadata": {},
     "output_type": "execute_result"
    }
   ],
   "source": [
    "ws"
   ]
  },
  {
   "cell_type": "code",
   "execution_count": 20,
   "metadata": {},
   "outputs": [],
   "source": [
    "def plotReg(dataSet):\n",
    "    xMat,yMat=get_Mat(dataSet)\n",
    "    plt.scatter(xMat.A[:,1],yMat.A,c='b',s=5)\n",
    "    ws = standRegres(dataSet)\n",
    "    yHat = xMat*ws\n",
    "    plt.plot(xMat[:,1],yHat,c='r')\n",
    "    plt.show()"
   ]
  },
  {
   "cell_type": "code",
   "execution_count": 21,
   "metadata": {},
   "outputs": [
    {
     "data": {
      "image/png": "[encoded data removed]",
      "text/plain": [
       "<Figure size 432x288 with 1 Axes>"
      ]
     },
     "metadata": {},
     "output_type": "display_data"
    }
   ],
   "source": [
    "plotReg(ex0)"
   ]
  },
  {
   "cell_type": "code",
   "execution_count": 22,
   "metadata": {},
   "outputs": [
    {
     "data": {
      "text/plain": [
       "array([[1.        , 0.98647356],\n",
       "       [0.98647356, 1.        ]])"
      ]
     },
     "execution_count": 22,
     "metadata": {},
     "output_type": "execute_result"
    }
   ],
   "source": [
    "xMat,yMat =get_Mat(ex0)\n",
    "ws=standRegres(ex0)\n",
    "yHat = xMat*ws\n",
    "np.corrcoef(yHat.T,yMat.T) #保证两个都是行向量"
   ]
  },
  {
   "cell_type": "code",
   "execution_count": 23,
   "metadata": {},
   "outputs": [
    {
     "data": {
      "image/png": "[encoded data removed]",
      "text/plain": [
       "<Figure size 600x800 with 4 Axes>"
      ]
     },
     "metadata": {},
     "output_type": "display_data"
    }
   ],
   "source": [
    "xMat,yMat = get_Mat(ex0)\n",
    "x=0.5\n",
    "xi = np.arange(0,1.0,0.01)\n",
    "k1,k2,k3=0.5,0.1,0.01\n",
    "w1 = np.exp((xi-x)**2/(-2*k1**2))\n",
    "w2 = np.exp((xi-x)**2/(-2*k2**2))\n",
    "w3 = np.exp((xi-x)**2/(-2*k3**2))\n",
    "#创建画布\n",
    "fig = plt.figure(figsize=(6,8),dpi=100)\n",
    "#子画布1，原始数据集\n",
    "fig1 = fig.add_subplot(411)\n",
    "plt.scatter(xMat.A[:,1],yMat.A,c='b',s=5)\n",
    "#子画布2，w=0.5\n",
    "fig2 = fig.add_subplot(412)\n",
    "plt.plot(xi,w1,color='r')\n",
    "plt.legend(['k = 0.5'])\n",
    "#子画布3，w=0.1\n",
    "fig3 = fig.add_subplot(413)\n",
    "plt.plot(xi,w2,color='g')\n",
    "plt.legend(['k = 0.1'])\n",
    "#子画布4，w=0.01\n",
    "fig4 = fig.add_subplot(414)\n",
    "plt.plot(xi,w3,color='orange')\n",
    "plt.legend(['k = 0.01'])\n",
    "plt.show()"
   ]
  },
  {
   "cell_type": "code",
   "execution_count": 25,
   "metadata": {},
   "outputs": [],
   "source": [
    "def LWLR(testMat,xMat,yMat,k=1.0):\n",
    "    n=testMat.shape[0]\n",
    "    m=xMat.shape[0]\n",
    "    weights =np.mat(np.eye(m))\n",
    "    yHat = np.zeros(n)\n",
    "    for i in range(n):\n",
    "        for j in range(m):\n",
    "            diffMat = testMat[i]-xMat[j]\n",
    "            weights[j,j]=np.exp(diffMat*diffMat.T/(-2*k**2))\n",
    "        xTx = xMat.T*(weights*xMat)\n",
    "        if np.linalg.det(xTx)==0:\n",
    "            print('矩阵为奇异矩阵，不能求逆')\n",
    "            return\n",
    "        ws = xTx.I*(xMat.T*(weights*yMat))\n",
    "        yHat[i]= testMat[i]*ws\n",
    "    return yHat"
   ]
  },
  {
   "cell_type": "code",
   "execution_count": 27,
   "metadata": {},
   "outputs": [],
   "source": [
    "yHat = LWLR(xMat,xMat,yMat,k=1.0)"
   ]
  },
  {
   "cell_type": "code",
   "execution_count": 24,
   "metadata": {},
   "outputs": [
    {
     "data": {
      "text/plain": [
       "array([[1., 0., 0.],\n",
       "       [0., 1., 0.],\n",
       "       [0., 0., 1.]])"
      ]
     },
     "execution_count": 24,
     "metadata": {},
     "output_type": "execute_result"
    }
   ],
   "source": [
    "np.eye(3)"
   ]
  },
  {
   "cell_type": "code",
   "execution_count": 28,
   "metadata": {},
   "outputs": [
    {
     "data": {
      "text/plain": [
       "array([0, 2, 1], dtype=int64)"
      ]
     },
     "execution_count": 28,
     "metadata": {},
     "output_type": "execute_result"
    }
   ],
   "source": [
    "np.argsort([1,3,2])"
   ]
  },
  {
   "cell_type": "code",
   "execution_count": 29,
   "metadata": {},
   "outputs": [],
   "source": [
    "xMat,yMat = get_Mat(ex0)\n",
    "#将数据点排列（argsort()默认升序排列，返回索引）\n",
    "srtInd = xMat[:,1].argsort(0)\n",
    "xSort=xMat[srtInd][:,0]"
   ]
  },
  {
   "cell_type": "code",
   "execution_count": 35,
   "metadata": {},
   "outputs": [],
   "source": [
    "#计算不同k取值下的y估计值yHat\n",
    "yHat1 = LWLR(xMat,xMat,yMat,k=1.0)\n",
    "yHat2 = LWLR(xMat,xMat,yMat,k=0.01)\n",
    "yHat3 = LWLR(xMat,xMat,yMat,k=0.003)"
   ]
  },
  {
   "cell_type": "code",
   "execution_count": 38,
   "metadata": {},
   "outputs": [
    {
     "data": {
      "image/png": "[encoded data removed]",
      "text/plain": [
       "<Figure size 600x800 with 3 Axes>"
      ]
     },
     "metadata": {},
     "output_type": "display_data"
    }
   ],
   "source": [
    "#创建画布\n",
    "fig = plt.figure(figsize=(6,8),dpi=100)\n",
    "#子图1绘制k=1.0的曲线\n",
    "fig1=fig.add_subplot(311)\n",
    "plt.scatter(xMat[:,1].A,yMat.A,c='b',s=2)\n",
    "plt.plot(xSort[:,1],yHat1[srtInd],linewidth=1,color='r')\n",
    "plt.title('局部加权回归曲线，k=1.0',size=10,color='r')\n",
    "#子图2绘制k=0.01的曲线\n",
    "fig2=fig.add_subplot(312)\n",
    "plt.scatter(xMat[:,1].A,yMat.A,c='b',s=2)\n",
    "plt.plot(xSort[:,1],yHat2[srtInd],linewidth=1,color='r')\n",
    "plt.title('局部加权回归曲线，k=0.01',size=10,color='r')\n",
    "#子图3绘制k=0.003的曲线\n",
    "fig3=fig.add_subplot(313)\n",
    "plt.scatter(xMat[:,1].A,yMat.A,c='b',s=2)\n",
    "plt.plot(xSort[:,1],yHat3[srtInd],linewidth=1,color='r')\n",
    "plt.title('局部加权回归曲线，k=0.003',size=10,color='r')\n",
    "#调整子图的间距\n",
    "plt.tight_layout(pad=1.2)\n",
    "plt.show()"
   ]
  },
  {
   "cell_type": "code",
   "execution_count": 39,
   "metadata": {},
   "outputs": [
    {
     "data": {
      "text/plain": [
       "array([[1.        , 0.98647703],\n",
       "       [0.98647703, 1.        ]])"
      ]
     },
     "execution_count": 39,
     "metadata": {},
     "output_type": "execute_result"
    }
   ],
   "source": [
    "np.corrcoef(yHat.T,yMat.T)     #最小二乘法"
   ]
  },
  {
   "cell_type": "code",
   "execution_count": 40,
   "metadata": {},
   "outputs": [
    {
     "data": {
      "text/plain": [
       "array([[1.        , 0.98647703],\n",
       "       [0.98647703, 1.        ]])"
      ]
     },
     "execution_count": 40,
     "metadata": {},
     "output_type": "execute_result"
    }
   ],
   "source": [
    "np.corrcoef(yHat1.T,yMat.T)    #k=1.0模型"
   ]
  },
  {
   "cell_type": "code",
   "execution_count": 41,
   "metadata": {},
   "outputs": [
    {
     "data": {
      "text/plain": [
       "array([[1.       , 0.9985249],\n",
       "       [0.9985249, 1.       ]])"
      ]
     },
     "execution_count": 41,
     "metadata": {},
     "output_type": "execute_result"
    }
   ],
   "source": [
    "np.corrcoef(yHat2.T,yMat.T)    #k=0.01模型"
   ]
  },
  {
   "cell_type": "code",
   "execution_count": 42,
   "metadata": {},
   "outputs": [
    {
     "data": {
      "text/plain": [
       "array([[1.        , 0.99931945],\n",
       "       [0.99931945, 1.        ]])"
      ]
     },
     "execution_count": 42,
     "metadata": {},
     "output_type": "execute_result"
    }
   ],
   "source": [
    "np.corrcoef(yHat3.T,yMat.T)    #k=0.003模型"
   ]
  },
  {
   "cell_type": "code",
   "execution_count": 43,
   "metadata": {},
   "outputs": [],
   "source": [
    "abalone = pd.read_table('abalone.txt',header=None)\n",
    "abalone.columns=['性别','长度','直径','高度','整体重量','肉重量','内脏重量','壳重','年龄']"
   ]
  },
  {
   "cell_type": "code",
   "execution_count": 44,
   "metadata": {},
   "outputs": [
    {
     "data": {
      "text/html": [
       "<div>\n",
       "<style scoped>\n",
       "    .dataframe tbody tr th:only-of-type {\n",
       "        vertical-align: middle;\n",
       "    }\n",
       "\n",
       "    .dataframe tbody tr th {\n",
       "        vertical-align: top;\n",
       "    }\n",
       "\n",
       "    .dataframe thead th {\n",
       "        text-align: right;\n",
       "    }\n",
       "</style>\n",
       "<table border=\"1\" class=\"dataframe\">\n",
       "  <thead>\n",
       "    <tr style=\"text-align: right;\">\n",
       "      <th></th>\n",
       "      <th>性别</th>\n",
       "      <th>长度</th>\n",
       "      <th>直径</th>\n",
       "      <th>高度</th>\n",
       "      <th>整体重量</th>\n",
       "      <th>肉重量</th>\n",
       "      <th>内脏重量</th>\n",
       "      <th>壳重</th>\n",
       "      <th>年龄</th>\n",
       "    </tr>\n",
       "  </thead>\n",
       "  <tbody>\n",
       "    <tr>\n",
       "      <th>0</th>\n",
       "      <td>1</td>\n",
       "      <td>0.455</td>\n",
       "      <td>0.365</td>\n",
       "      <td>0.095</td>\n",
       "      <td>0.5140</td>\n",
       "      <td>0.2245</td>\n",
       "      <td>0.1010</td>\n",
       "      <td>0.150</td>\n",
       "      <td>15</td>\n",
       "    </tr>\n",
       "    <tr>\n",
       "      <th>1</th>\n",
       "      <td>1</td>\n",
       "      <td>0.350</td>\n",
       "      <td>0.265</td>\n",
       "      <td>0.090</td>\n",
       "      <td>0.2255</td>\n",
       "      <td>0.0995</td>\n",
       "      <td>0.0485</td>\n",
       "      <td>0.070</td>\n",
       "      <td>7</td>\n",
       "    </tr>\n",
       "    <tr>\n",
       "      <th>2</th>\n",
       "      <td>-1</td>\n",
       "      <td>0.530</td>\n",
       "      <td>0.420</td>\n",
       "      <td>0.135</td>\n",
       "      <td>0.6770</td>\n",
       "      <td>0.2565</td>\n",
       "      <td>0.1415</td>\n",
       "      <td>0.210</td>\n",
       "      <td>9</td>\n",
       "    </tr>\n",
       "    <tr>\n",
       "      <th>3</th>\n",
       "      <td>1</td>\n",
       "      <td>0.440</td>\n",
       "      <td>0.365</td>\n",
       "      <td>0.125</td>\n",
       "      <td>0.5160</td>\n",
       "      <td>0.2155</td>\n",
       "      <td>0.1140</td>\n",
       "      <td>0.155</td>\n",
       "      <td>10</td>\n",
       "    </tr>\n",
       "    <tr>\n",
       "      <th>4</th>\n",
       "      <td>0</td>\n",
       "      <td>0.330</td>\n",
       "      <td>0.255</td>\n",
       "      <td>0.080</td>\n",
       "      <td>0.2050</td>\n",
       "      <td>0.0895</td>\n",
       "      <td>0.0395</td>\n",
       "      <td>0.055</td>\n",
       "      <td>7</td>\n",
       "    </tr>\n",
       "  </tbody>\n",
       "</table>\n",
       "</div>"
      ],
      "text/plain": [
       "   性别     长度     直径     高度    整体重量     肉重量    内脏重量     壳重  年龄\n",
       "0   1  0.455  0.365  0.095  0.5140  0.2245  0.1010  0.150  15\n",
       "1   1  0.350  0.265  0.090  0.2255  0.0995  0.0485  0.070   7\n",
       "2  -1  0.530  0.420  0.135  0.6770  0.2565  0.1415  0.210   9\n",
       "3   1  0.440  0.365  0.125  0.5160  0.2155  0.1140  0.155  10\n",
       "4   0  0.330  0.255  0.080  0.2050  0.0895  0.0395  0.055   7"
      ]
     },
     "execution_count": 44,
     "metadata": {},
     "output_type": "execute_result"
    }
   ],
   "source": [
    "abalone.head()"
   ]
  },
  {
   "cell_type": "code",
   "execution_count": 45,
   "metadata": {},
   "outputs": [
    {
     "data": {
      "text/plain": [
       "(4177, 9)"
      ]
     },
     "execution_count": 45,
     "metadata": {},
     "output_type": "execute_result"
    }
   ],
   "source": [
    "abalone.shape"
   ]
  },
  {
   "cell_type": "code",
   "execution_count": 46,
   "metadata": {},
   "outputs": [
    {
     "name": "stdout",
     "output_type": "stream",
     "text": [
      "<class 'pandas.core.frame.DataFrame'>\n",
      "RangeIndex: 4177 entries, 0 to 4176\n",
      "Data columns (total 9 columns):\n",
      "性别      4177 non-null int64\n",
      "长度      4177 non-null float64\n",
      "直径      4177 non-null float64\n",
      "高度      4177 non-null float64\n",
      "整体重量    4177 non-null float64\n",
      "肉重量     4177 non-null float64\n",
      "内脏重量    4177 non-null float64\n",
      "壳重      4177 non-null float64\n",
      "年龄      4177 non-null int64\n",
      "dtypes: float64(7), int64(2)\n",
      "memory usage: 293.8 KB\n"
     ]
    }
   ],
   "source": [
    "abalone.info()"
   ]
  },
  {
   "cell_type": "code",
   "execution_count": 48,
   "metadata": {},
   "outputs": [
    {
     "data": {
      "text/plain": [
       "性别      0.052909\n",
       "长度      0.523992\n",
       "直径      0.407881\n",
       "高度      0.139516\n",
       "整体重量    0.828742\n",
       "肉重量     0.359367\n",
       "内脏重量    0.180594\n",
       "壳重      0.238831\n",
       "年龄      9.933684\n",
       "dtype: float64"
      ]
     },
     "execution_count": 48,
     "metadata": {},
     "output_type": "execute_result"
    }
   ],
   "source": [
    "abalone.mean()"
   ]
  },
  {
   "cell_type": "code",
   "execution_count": 49,
   "metadata": {},
   "outputs": [],
   "source": [
    "def randSplit(dataSet,rate):\n",
    "    m = dataSet.shape[0]\n",
    "    n = int(m*rate)\n",
    "    train = dataSet.iloc[:n,:]\n",
    "    test = dataSet.iloc[n:m,:]\n",
    "    test.index = range(test.shape[0])\n",
    "    return train,test"
   ]
  },
  {
   "cell_type": "code",
   "execution_count": 51,
   "metadata": {},
   "outputs": [],
   "source": [
    "train,test = randSplit(abalone,0.8)"
   ]
  },
  {
   "cell_type": "code",
   "execution_count": 52,
   "metadata": {},
   "outputs": [
    {
     "data": {
      "text/html": [
       "<div>\n",
       "<style scoped>\n",
       "    .dataframe tbody tr th:only-of-type {\n",
       "        vertical-align: middle;\n",
       "    }\n",
       "\n",
       "    .dataframe tbody tr th {\n",
       "        vertical-align: top;\n",
       "    }\n",
       "\n",
       "    .dataframe thead th {\n",
       "        text-align: right;\n",
       "    }\n",
       "</style>\n",
       "<table border=\"1\" class=\"dataframe\">\n",
       "  <thead>\n",
       "    <tr style=\"text-align: right;\">\n",
       "      <th></th>\n",
       "      <th>性别</th>\n",
       "      <th>长度</th>\n",
       "      <th>直径</th>\n",
       "      <th>高度</th>\n",
       "      <th>整体重量</th>\n",
       "      <th>肉重量</th>\n",
       "      <th>内脏重量</th>\n",
       "      <th>壳重</th>\n",
       "      <th>年龄</th>\n",
       "    </tr>\n",
       "  </thead>\n",
       "  <tbody>\n",
       "    <tr>\n",
       "      <th>0</th>\n",
       "      <td>1</td>\n",
       "      <td>0.455</td>\n",
       "      <td>0.365</td>\n",
       "      <td>0.095</td>\n",
       "      <td>0.5140</td>\n",
       "      <td>0.2245</td>\n",
       "      <td>0.1010</td>\n",
       "      <td>0.150</td>\n",
       "      <td>15</td>\n",
       "    </tr>\n",
       "    <tr>\n",
       "      <th>1</th>\n",
       "      <td>1</td>\n",
       "      <td>0.350</td>\n",
       "      <td>0.265</td>\n",
       "      <td>0.090</td>\n",
       "      <td>0.2255</td>\n",
       "      <td>0.0995</td>\n",
       "      <td>0.0485</td>\n",
       "      <td>0.070</td>\n",
       "      <td>7</td>\n",
       "    </tr>\n",
       "    <tr>\n",
       "      <th>2</th>\n",
       "      <td>-1</td>\n",
       "      <td>0.530</td>\n",
       "      <td>0.420</td>\n",
       "      <td>0.135</td>\n",
       "      <td>0.6770</td>\n",
       "      <td>0.2565</td>\n",
       "      <td>0.1415</td>\n",
       "      <td>0.210</td>\n",
       "      <td>9</td>\n",
       "    </tr>\n",
       "    <tr>\n",
       "      <th>3</th>\n",
       "      <td>1</td>\n",
       "      <td>0.440</td>\n",
       "      <td>0.365</td>\n",
       "      <td>0.125</td>\n",
       "      <td>0.5160</td>\n",
       "      <td>0.2155</td>\n",
       "      <td>0.1140</td>\n",
       "      <td>0.155</td>\n",
       "      <td>10</td>\n",
       "    </tr>\n",
       "    <tr>\n",
       "      <th>4</th>\n",
       "      <td>0</td>\n",
       "      <td>0.330</td>\n",
       "      <td>0.255</td>\n",
       "      <td>0.080</td>\n",
       "      <td>0.2050</td>\n",
       "      <td>0.0895</td>\n",
       "      <td>0.0395</td>\n",
       "      <td>0.055</td>\n",
       "      <td>7</td>\n",
       "    </tr>\n",
       "  </tbody>\n",
       "</table>\n",
       "</div>"
      ],
      "text/plain": [
       "   性别     长度     直径     高度    整体重量     肉重量    内脏重量     壳重  年龄\n",
       "0   1  0.455  0.365  0.095  0.5140  0.2245  0.1010  0.150  15\n",
       "1   1  0.350  0.265  0.090  0.2255  0.0995  0.0485  0.070   7\n",
       "2  -1  0.530  0.420  0.135  0.6770  0.2565  0.1415  0.210   9\n",
       "3   1  0.440  0.365  0.125  0.5160  0.2155  0.1140  0.155  10\n",
       "4   0  0.330  0.255  0.080  0.2050  0.0895  0.0395  0.055   7"
      ]
     },
     "execution_count": 52,
     "metadata": {},
     "output_type": "execute_result"
    }
   ],
   "source": [
    "train.head()"
   ]
  },
  {
   "cell_type": "code",
   "execution_count": 53,
   "metadata": {},
   "outputs": [
    {
     "data": {
      "text/plain": [
       "(3341, 9)"
      ]
     },
     "execution_count": 53,
     "metadata": {},
     "output_type": "execute_result"
    }
   ],
   "source": [
    "train.shape"
   ]
  },
  {
   "cell_type": "code",
   "execution_count": 54,
   "metadata": {},
   "outputs": [
    {
     "data": {
      "text/plain": [
       "(836, 9)"
      ]
     },
     "execution_count": 54,
     "metadata": {},
     "output_type": "execute_result"
    }
   ],
   "source": [
    "test.shape"
   ]
  },
  {
   "cell_type": "code",
   "execution_count": 55,
   "metadata": {},
   "outputs": [],
   "source": [
    "def sseCal(yMat, yHat):\n",
    "    sse = ((yMat.A.flatten()-yHat)**2).sum()\n",
    "    return sse"
   ]
  },
  {
   "cell_type": "code",
   "execution_count": 59,
   "metadata": {},
   "outputs": [],
   "source": [
    "def showPlot(abalone):\n",
    "    abX,abY = get_Mat(abalone)\n",
    "    train_sse = []\n",
    "    test_sse = []\n",
    "    for k in np.arange(0.5,10.1,0.1):\n",
    "        yHat1 = LWLR(abX[:99],abX[:99],abY[:99],k)\n",
    "        sse1 = sseCal(abY[:99], yHat1)\n",
    "        train_sse.append(sse1)\n",
    "        \n",
    "        yHat2 = LWLR(abX[100:199],abX[:99],abY[:99],k)\n",
    "        sse2 = sseCal(abY[100:199], yHat2)\n",
    "        test_sse.append(sse2)\n",
    "    plt.plot(np.arange(0.5,10.1,0.1),train_sse,color='b')\n",
    "    plt.plot(np.arange(0.5,10.1,0.1),test_sse,color='r')\n",
    "    plt.xlabel('不同k取值')\n",
    "    plt.ylabel('SSE')\n",
    "    plt.legend(['train_sse','test_sse'])"
   ]
  },
  {
   "cell_type": "code",
   "execution_count": 60,
   "metadata": {},
   "outputs": [
    {
     "data": {
      "image/png": "[encoded data removed]",
      "text/plain": [
       "<Figure size 432x288 with 1 Axes>"
      ]
     },
     "metadata": {},
     "output_type": "display_data"
    }
   ],
   "source": [
    " showPlot(abalone)"
   ]
  },
  {
   "cell_type": "code",
   "execution_count": null,
   "metadata": {},
   "outputs": [],
   "source": []
  },
  {
   "cell_type": "code",
   "execution_count": null,
   "metadata": {},
   "outputs": [],
   "source": []
  },
  {
   "cell_type": "code",
   "execution_count": null,
   "metadata": {},
   "outputs": [],
   "source": []
  }
 ],
 "metadata": {
  "kernelspec": {
   "display_name": "Python 3",
   "language": "python",
   "name": "python3"
  },
  "language_info": {
   "codemirror_mode": {
    "name": "ipython",
    "version": 3
   },
   "file_extension": ".py",
   "mimetype": "text/x-python",
   "name": "python",
   "nbconvert_exporter": "python",
   "pygments_lexer": "ipython3",
   "version": "3.6.5"
  }
 },
 "nbformat": 4,
 "nbformat_minor": 2
}
