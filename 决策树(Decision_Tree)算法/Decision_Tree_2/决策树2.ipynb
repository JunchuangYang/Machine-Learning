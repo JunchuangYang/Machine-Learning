{
 "cells": [
  {
   "cell_type": "code",
   "execution_count": 23,
   "metadata": {},
   "outputs": [],
   "source": [
    "# -*- coding=utf-8 -*-\n",
    "'''\n",
    "函数功能：创建测试数据集\n",
    "参数说明：无\n",
    "返回：\n",
    "    dataSet：数据集\n",
    "    labels：分类属性\n",
    "'''\n",
    "def createDataSet():\n",
    "    dataSet = [[0, 0, 0, 0, 'no'],         #数据集\n",
    "            [0, 0, 0, 1, 'no'],\n",
    "            [0, 1, 0, 1, 'yes'],\n",
    "            [0, 1, 1, 0, 'yes'],\n",
    "            [0, 0, 0, 0, 'no'],\n",
    "            [1, 0, 0, 0, 'no'],\n",
    "            [1, 0, 0, 1, 'no'],\n",
    "            [1, 1, 1, 1, 'yes'],\n",
    "            [1, 0, 1, 2, 'yes'],\n",
    "            [1, 0, 1, 2, 'yes'],\n",
    "            [2, 0, 1, 2, 'yes'],\n",
    "            [2, 0, 1, 1, 'yes'],\n",
    "            [2, 1, 0, 1, 'yes'],\n",
    "            [2, 1, 0, 2, 'yes'],\n",
    "            [2, 0, 0, 0, 'no']]\n",
    "    labels = ['年龄', '有工作', '有自己的房子', '信贷情况']  \n",
    "    return dataSet , labels\n",
    "             "
   ]
  },
  {
   "cell_type": "code",
   "execution_count": 21,
   "metadata": {},
   "outputs": [],
   "source": [
    "from math import log \n",
    "import operator"
   ]
  },
  {
   "cell_type": "code",
   "execution_count": 15,
   "metadata": {},
   "outputs": [],
   "source": [
    "'''\n",
    "函数功能：计算给定数据集的香农熵\n",
    "参数说明：\n",
    "    dataSet：数据集\n",
    "返回：\n",
    "    shannonEnt：香农熵\n",
    "'''\n",
    "def calcShannonEnt(dataSet):\n",
    "    numEntires = len(dataSet) # 返回数据集的行数\n",
    "    labelCounts = {} # 保存每个标签（Label）出现次数的字典\n",
    "    for featVec in dataSet: # 对每组的特征向量进行统计\n",
    "        currentLabel = featVec[-1] # 提取标签（Label）信息\n",
    "        if currentLabel not in labelCounts.keys(): # 如果标签（Label）没有放入统计次数的字典，添加进去\n",
    "            labelCounts[currentLabel] = 0 \n",
    "        labelCounts[currentLabel] += 1 # Lable计数\n",
    "    shannonEnt = 0.0 # 初始化香农熵\n",
    "    for key in labelCounts: # 计算香农熵\n",
    "        prob = float(labelCounts[key]) / numEntires # 选择该标签（Label）的概率\n",
    "        shannonEnt += -(prob * log(prob,2)) # 利用公式计算\n",
    "    return shannonEnt # 返回香农熵"
   ]
  },
  {
   "cell_type": "code",
   "execution_count": 14,
   "metadata": {},
   "outputs": [
    {
     "name": "stdout",
     "output_type": "stream",
     "text": [
      "[[0, 0, 0, 0, 'no'], [0, 0, 0, 1, 'no'], [0, 1, 0, 1, 'yes'], [0, 1, 1, 0, 'yes'], [0, 0, 0, 0, 'no'], [1, 0, 0, 0, 'no'], [1, 0, 0, 1, 'no'], [1, 1, 1, 1, 'yes'], [1, 0, 1, 2, 'yes'], [1, 0, 1, 2, 'yes'], [2, 0, 1, 2, 'yes'], [2, 0, 1, 1, 'yes'], [2, 1, 0, 1, 'yes'], [2, 1, 0, 2, 'yes'], [2, 0, 0, 0, 'no']]\n",
      "0.9709505944546686\n"
     ]
    }
   ],
   "source": [
    "if __name__ == '__main__':\n",
    "    dataSet , features = createDataSet()\n",
    "    print(dataSet)\n",
    "    print(calcShannonEnt(dataSet))"
   ]
  },
  {
   "cell_type": "code",
   "execution_count": 26,
   "metadata": {},
   "outputs": [],
   "source": [
    "'''\n",
    "函数功能：按照给定特征划分数据集\n",
    "参数说明：\n",
    "    dataSet：待划分的数据集\n",
    "    axis：划分数据集的特征\n",
    "    value：需要返回的特征的值\n",
    "返回：\n",
    "    retDataSet：划分后的数据集\n",
    "'''\n",
    "def splitDataSet(dataSet,axis,value):\n",
    "    retDataSet = [] # 创建返回的数据集列表\n",
    "    for featVec in dataSet:\n",
    "        if featVec[axis] == value:\n",
    "            reducedFeatVec = featVec[:axis]\n",
    "            reducedFeatVec.extend(featVec[axis + 1:]) # 去掉axis的特征\n",
    "            retDataSet.append(reducedFeatVec) # 将符合条件的添加到返回的数据集\n",
    "    return retDataSet # 返回划分后的数据集"
   ]
  },
  {
   "cell_type": "code",
   "execution_count": 19,
   "metadata": {},
   "outputs": [],
   "source": [
    "'''\n",
    "函数功能：选择最优特征\n",
    "参数说明：\n",
    "    dataSet：数据集\n",
    "返回：\n",
    "    bestFeature : 信息增益最大的（最优）特征的索引值\n",
    "'''\n",
    "def chooseBestFeatureToSplit(dataSet):\n",
    "    numFeatures = len(dataSet[0]) - 1 # 特征数量\n",
    "    baseEntropy = calcShannonEnt(dataSet) # 计算数据集的香农熵\n",
    "    bestInfoGain = 0.0 # 初始化最优信息增益 \n",
    "    bestFeature = -1 # 初始化最优特征的索引值\n",
    "    for i in range(numFeatures): # 遍历所有特征值\n",
    "        featList = [example[i] for example in dataSet] # 获取dataSet第i列的所有特征值\n",
    "        uniqueVals = set(featList) # 使用set进行去重\n",
    "        newEntropy = 0.0 # 初始化第i个标签下的信息信息增益\n",
    "        for value in uniqueVals: # 计算信息增益\n",
    "            subDataSet = splitDataSet(dataSet,i,value) # 划分后的数据集\n",
    "            prob = len(subDataSet) / float(len(dataSet)) # 计算子集的概率\n",
    "            newEntropy += prob * calcShannonEnt(subDataSet) # 根据公式计算香农熵\n",
    "        infoGain = baseEntropy - newEntropy # 信息增益\n",
    "        if bestInfoGain < infoGain:\n",
    "            bestInfoGain = infoGain  # 更新信息增益，找出最大的信息增益\n",
    "            bestFeature = i # 记录信息增益最大的特征的索引值\n",
    "    return bestFeature  # 返回信息增益最大的特征的索引值"
   ]
  },
  {
   "cell_type": "code",
   "execution_count": 22,
   "metadata": {},
   "outputs": [],
   "source": [
    "'''\n",
    "函数功能：统计classList中出现最多的元素（类标签）\n",
    "参数说明：\n",
    "    classList: 类标签列表\n",
    "返回：\n",
    "    sortedClasscount[0][0]：出现此处最多的元素（类标签）\n",
    "'''\n",
    "def majorityCnt(classList):\n",
    "    classCount = {}\n",
    "    for vote in classList:  #统计classList中每个元素出现的次数\n",
    "        if vote not in classCount.keys():\n",
    "            classCount[vote] = 0\n",
    "        classCount[vote] += 1\n",
    "    sortedClasscount = sorted(classCount.items(),key  = operator.itemgetter(1) , reverse = True) #根据字典的值降序排序\n",
    "    return sortedClasscount[0][0] #返回classList中出现次数最多的元素"
   ]
  },
  {
   "cell_type": "code",
   "execution_count": 24,
   "metadata": {},
   "outputs": [],
   "source": [
    "'''\n",
    "函数功能：创建决策树\n",
    "参数说明：\n",
    "    dataset：训练数据集\n",
    "    labels：分类属性标签\n",
    "    featLabels： 最优特征标签\n",
    "返回：\n",
    "    myTree：决策树\n",
    "'''\n",
    "def createTree(dataSet,labels,featLabels):\n",
    "    classList = [example[-1] for example in dataSet]  #取分类标签(是否放贷:yes or no)\n",
    "    if classList.count(classList[0]) == len(classList): #如果类别完全相同则停止继续划分\n",
    "        return classList[0]\n",
    "    if len(dataSet[0]) == 1 or len(labels) == 0:  #遍历完所有特征时返回出现次数最多的类标签\n",
    "        return majorityCnt(classList)\n",
    "    bestFeat = chooseBestFeatureToSplit(dataSet) #选择最优特征\n",
    "    bestFeatLabel = labels[bestFeat] # 选择最优特征的标签\n",
    "    featLabels.append(bestFeatLabel) \n",
    "    myTree = {bestFeatLabel:{}} #根据最优特征的标签生成树\n",
    "    del(labels[bestFeat])  #删除已经使用特征标签\n",
    "    featValues = [example[bestFeat] for example in dataSet] #得到训练集中所有最优特征的属性值\n",
    "    uniqueVals = set(featValues) #去掉重复的属性值\n",
    "    for value in uniqueVals:  #遍历特征，创建决策树。\n",
    "        myTree[bestFeatLabel][value] = createTree(splitDataSet(dataSet,bestFeat,value),labels,featLabels)\n",
    "    return myTree"
   ]
  },
  {
   "cell_type": "code",
   "execution_count": 27,
   "metadata": {},
   "outputs": [
    {
     "name": "stdout",
     "output_type": "stream",
     "text": [
      "{'有自己的房子': {0: {'有工作': {0: 'no', 1: 'yes'}}, 1: 'yes'}}\n"
     ]
    }
   ],
   "source": [
    "if __name__ == '__main__':\n",
    "    dataSet, labels = createDataSet()\n",
    "    featLabels = []\n",
    "    myTree = createTree(dataSet, labels, featLabels)\n",
    "    print(myTree)"
   ]
  },
  {
   "cell_type": "code",
   "execution_count": 28,
   "metadata": {},
   "outputs": [],
   "source": [
    "'''\n",
    "函数功能：使用决策树分类\n",
    "参数：\n",
    "    inputTree：已经生成的决策树\n",
    "    featLabels：存储选择的最优特征标签\n",
    "    textVec：测试数据列表，顺序对应最优特征标签\n",
    "返回 ：\n",
    "    classLabel： 分类结果\n",
    "'''\n",
    "\n",
    "def classify(inputTree,featLabels,textVec):\n",
    "    firstStr = next(iter(inputTree))\n",
    "    secondDict = inputTree[firstStr]\n",
    "    featIndex = featLabels.index(firstStr)\n",
    "    for key in secondDict.keys():\n",
    "        if textVec[featIndex] == key:\n",
    "            if type(secondDict[key]).__name__ == 'dict':\n",
    "                classLabel = classify(secondDict[key],featLabels,testVec)\n",
    "            else:\n",
    "                classLabel = secondDict[key]\n",
    "    return classLabel\n"
   ]
  },
  {
   "cell_type": "code",
   "execution_count": 32,
   "metadata": {},
   "outputs": [
    {
     "name": "stdout",
     "output_type": "stream",
     "text": [
      "创建的决策树-----> {'有自己的房子': {0: {'有工作': {0: 'no', 1: 'yes'}}, 1: 'yes'}}\n",
      "不放贷\n"
     ]
    }
   ],
   "source": [
    "if __name__ == '__main__':\n",
    "    dataSet, labels = createDataSet()\n",
    "    featLabels = []\n",
    "    myTree = createTree(dataSet, labels, featLabels)\n",
    "    print(\"创建的决策树----->\",myTree)\n",
    "    testVec = [0,0]                                        #测试数据\n",
    "    result = classify(myTree, featLabels, testVec)\n",
    "    if result == 'yes':\n",
    "        print('放贷')\n",
    "    if result == 'no':\n",
    "        print('不放贷')\n",
    "\n"
   ]
  },
  {
   "cell_type": "code",
   "execution_count": null,
   "metadata": {},
   "outputs": [],
   "source": []
  }
 ],
 "metadata": {
  "kernelspec": {
   "display_name": "Python 3",
   "language": "python",
   "name": "python3"
  },
  "language_info": {
   "codemirror_mode": {
    "name": "ipython",
    "version": 3
   },
   "file_extension": ".py",
   "mimetype": "text/x-python",
   "name": "python",
   "nbconvert_exporter": "python",
   "pygments_lexer": "ipython3",
   "version": "3.6.5"
  }
 },
 "nbformat": 4,
 "nbformat_minor": 2
}
