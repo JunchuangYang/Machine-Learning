{
 "cells": [
  {
   "cell_type": "code",
   "execution_count": 92,
   "metadata": {},
   "outputs": [],
   "source": [
    "class treeNode :\n",
    "    def __init__(self, nameValue, numOccur, parentNode) :\n",
    "        # 节点名称\n",
    "        self.name = nameValue\n",
    "        self.count = numOccur\n",
    "        # 用于链接相似的元素项\n",
    "        self.nodeLink = None\n",
    "        # 当前节点的父节点\n",
    "        self.parent = parentNode\n",
    "        # 用于存放节点的子节点\n",
    "        self.children = {}\n",
    "\n",
    "    # 对count变量增加给定值\n",
    "    def inc(self, numOccur) :\n",
    "        self.count += numOccur\n",
    "\n",
    "    # 将树以文本的形式显示\n",
    "    def disp(self, ind=1) :\n",
    "        print (' '*ind, self.name, ' ', self.count)\n",
    "        for child in self.children.values() :\n",
    "            child.disp(ind+1)"
   ]
  },
  {
   "cell_type": "code",
   "execution_count": 63,
   "metadata": {},
   "outputs": [],
   "source": [
    "'''\n",
    "函数功能：FP树构建函数。# 使用数据集以及最小支持度作为参数来构建FP树。树构建过程会遍历数据集两次。\n",
    "参数说明：\n",
    "    dataSet：数据集\n",
    "    minSup：最小支持度\n",
    "'''\n",
    "# FP树构建函数\n",
    "# 使用数据集以及最小支持度作为参数来构建FP树。树构建过程会遍历数据集两次。\n",
    "def createTree(dataSet, minSup=1) :\n",
    "    headerTable = {}\n",
    "    # 第一次遍历扫描数据集并统计每个元素项出现的频度。这些信息被保存在头指针中。\n",
    "    for trans in dataSet :\n",
    "        for item in trans :\n",
    "            headerTable[item] = headerTable.get(item, 0) + dataSet[trans]\n",
    "    # 接着扫描头指针表删除那些出现次数小于minSup的项。\n",
    "    for k in list(headerTable.keys()) :\n",
    "        if headerTable[k] < minSup :\n",
    "            del(headerTable[k])\n",
    "    freqItemSet = set(headerTable.keys())\n",
    "    # 如果所有项都不频繁，无需下一步处理\n",
    "    if len(freqItemSet) == 0 : return None, None\n",
    "    # 对头指针表稍加扩展以便可以保存计数值及指向每种类型第一个元素项的指针\n",
    "    for k in headerTable :\n",
    "        headerTable[k] = [headerTable[k], None]\n",
    "    # 创建只包含空集合的根节点\n",
    "    retTree = treeNode('Null Set', 1, None)\n",
    "    for tranSet, count in dataSet.items() :\n",
    "        localD = {}\n",
    "        # 根据全局频率对每个事务中的元素进行排序\n",
    "        for item in tranSet :\n",
    "            if item in freqItemSet :\n",
    "                localD[item] = headerTable[item][0]\n",
    "        if len(localD) > 0 :\n",
    "            orderedItems = [v[0] for v in sorted(localD.items(), key=lambda p : p[1], reverse=True)]\n",
    "            # 排序后，调用updateTree()方法\n",
    "            updateTree(orderedItems, retTree, headerTable, count)\n",
    "    return retTree, headerTable\n"
   ]
  },
  {
   "cell_type": "code",
   "execution_count": 86,
   "metadata": {},
   "outputs": [],
   "source": [
    "'''\n",
    "函数功能：更新Fp树\n",
    "'''\n",
    "def updateTree(items, inTree, headerTable, count) :\n",
    "    # 该函数首先测试事务中的第一个元素项是否作为子节点存在。\n",
    "    if items[0] in inTree.children :\n",
    "        # 如果存在，则更新该元素项的计数\n",
    "        inTree.children[items[0]].inc(count)\n",
    "    else :\n",
    "        # 如果不存在，则创建一个新的treeNode并将其作为一个子节点添加到树中，这时，头指针表也要更新以指向新的节点。\n",
    "        inTree.children[items[0]] = treeNode(items[0], count, inTree)\n",
    "        if headerTable[items[0]][1] == None :\n",
    "            headerTable[items[0]][1] = inTree.children[items[0]]\n",
    "        else :\n",
    "            # 更新头指针表需要调用函数updateHeader\n",
    "            updateHeader(headerTable[items[0]][1], inTree.children[items[0]])\n",
    "    # updateTree()完成的最后一件事是不断迭代调用自身，每次调用时会去掉列表中的第一个元素\n",
    "    if len(items) > 1 :\n",
    "        updateTree(items[1::], inTree.children[items[0]], headerTable, count)"
   ]
  },
  {
   "cell_type": "code",
   "execution_count": 9,
   "metadata": {},
   "outputs": [],
   "source": [
    "# 确保节点链接指向树中该元素项的每一个实例，从头指针的nodeLink开始，一直沿着nodeLink直到到达链表末尾。\n",
    "# 当处理树的时候，一种自然的反应就是迭代完整每一件事。当以相同方式处理链表时可能会遇到一些问题，\n",
    "# 原因是如果链表很长可能会遇到迭代调用的次数限制\n",
    "def updateHeader(nodeToTest, targetNode) :\n",
    "    while (nodeToTest.nodeLink != None) :\n",
    "        nodeToTest = nodeToTest.nodeLink\n",
    "    nodeToTest.nodeLink = targetNode"
   ]
  },
  {
   "cell_type": "code",
   "execution_count": 97,
   "metadata": {},
   "outputs": [],
   "source": [
    "# 载入数据集\n",
    "def loadSimpDat() :\n",
    "    simpDat = [ ['r', 'z', 'h', 'j', 'p' ],\n",
    "                ['z', 'y', 'x', 'w', 'v', 'u', 't', 's' ],\n",
    "                ['z' ],\n",
    "                ['r', 'x', 'n', 'o', 's' ],\n",
    "                ['y', 'r', 'x', 'z', 'q', 't', 'p' ],\n",
    "                ['y', 'z', 'x', 'e', 'q', 's', 't', 'm' ] ]\n",
    "    return simpDat\n",
    "\n",
    "# 从列表向字典的类型转换\n",
    "def createInitSet(dataSet) :\n",
    "    retDict = {}\n",
    "    for trans in dataSet :\n",
    "        retDict[frozenset(trans)] = 1\n",
    "    return retDict"
   ]
  },
  {
   "cell_type": "code",
   "execution_count": 98,
   "metadata": {},
   "outputs": [],
   "source": [
    "simpDat = loadSimpDat()"
   ]
  },
  {
   "cell_type": "code",
   "execution_count": 99,
   "metadata": {},
   "outputs": [],
   "source": [
    "initSet = createInitSet(simpDat)"
   ]
  },
  {
   "cell_type": "code",
   "execution_count": 100,
   "metadata": {},
   "outputs": [],
   "source": [
    "myFPtree, myHeaderTab = createTree(initSet, 3)"
   ]
  },
  {
   "cell_type": "code",
   "execution_count": 101,
   "metadata": {},
   "outputs": [
    {
     "name": "stdout",
     "output_type": "stream",
     "text": [
      "  Null Set   1\n",
      "   z   5\n",
      "    r   1\n",
      "    x   3\n",
      "     s   2\n",
      "      y   2\n",
      "       t   2\n",
      "     y   1\n",
      "      t   1\n",
      "       r   1\n",
      "   x   1\n",
      "    s   1\n",
      "     r   1\n"
     ]
    }
   ],
   "source": [
    "myFPtree.disp()"
   ]
  },
  {
   "cell_type": "code",
   "execution_count": 102,
   "metadata": {},
   "outputs": [
    {
     "data": {
      "text/plain": [
       "{'r': [3, <__main__.treeNode at 0x1b0eee59e80>],\n",
       " 's': [3, <__main__.treeNode at 0x1b0eee599b0>],\n",
       " 't': [3, <__main__.treeNode at 0x1b0eee7f2b0>],\n",
       " 'x': [4, <__main__.treeNode at 0x1b0eee59e48>],\n",
       " 'y': [3, <__main__.treeNode at 0x1b0eee7fb70>],\n",
       " 'z': [5, <__main__.treeNode at 0x1b0eee59f98>]}"
      ]
     },
     "execution_count": 102,
     "metadata": {},
     "output_type": "execute_result"
    }
   ],
   "source": [
    "myHeaderTab"
   ]
  },
  {
   "cell_type": "code",
   "execution_count": 108,
   "metadata": {},
   "outputs": [
    {
     "data": {
      "text/plain": [
       "{frozenset({<__main__.treeNode at 0x1b0eee59f98>}): 3}"
      ]
     },
     "execution_count": 108,
     "metadata": {},
     "output_type": "execute_result"
    }
   ],
   "source": [
    "findPrefixPath('x', myHeaderTab['x'][1])"
   ]
  },
  {
   "cell_type": "code",
   "execution_count": 103,
   "metadata": {},
   "outputs": [],
   "source": [
    "def ascendTree(leafNode, prefixPath) :\n",
    "    # 迭代上溯整棵树\n",
    "    if leafNode.parent != None :\n",
    "        prefixPath.append(leafNode)\n",
    "        ascendTree(leafNode.parent, prefixPath)\n",
    "\n",
    "# 遍历链表直到到达结尾。每遇到一个元素项都会调用ascendTree()来上溯FP树，并收集所有遇到的元素项的名称。\n",
    "# 该列表返回之后添加到条件模式基字典condPats中\n",
    "def findPrefixPath(basePat, treeNode) :\n",
    "    condPats = {}\n",
    "    while treeNode != None :\n",
    "        prefixPath = []\n",
    "        ascendTree(treeNode, prefixPath)\n",
    "        if len(prefixPath) > 1 :\n",
    "            condPats[frozenset(prefixPath[1:])] = treeNode.count\n",
    "        treeNode = treeNode.nodeLink\n",
    "    return condPats"
   ]
  },
  {
   "cell_type": "code",
   "execution_count": 104,
   "metadata": {},
   "outputs": [],
   "source": [
    "def mineTree(inTree, headerTable, minSup, preFix, freqItemList) :\n",
    "    # 对头指针表中元素项按照其出现频率进行排序，默认是从小到大\n",
    "    bigL = [v[0] for v in sorted(headerTable.items(), key=lambda p:p[1][0])]\n",
    "    # 默认是从小到大，下面过程是从头指针的底端开始\n",
    "    for basePat in bigL :\n",
    "        newFreqSet = preFix.copy()\n",
    "        newFreqSet.add(basePat)\n",
    "        # 将每个频繁项添加到频繁项集列表freqItemList中\n",
    "        freqItemList.append(newFreqSet)\n",
    "        # 使用findPrefixPath()创建条件基\n",
    "        condPattBases = findPrefixPath(basePat, headerTable[basePat][1])\n",
    "        # 将条件基condPattBases作为新数据集传递给createTree()函数\n",
    "        # 这里为函数createTree()添加足够的灵活性，确保它可以被重用于构建条件树\n",
    "        myCondTree, myHead = createTree(condPattBases, minSup)\n",
    "        # 如果树中有元素项的话，递归调用mineTree()函数\n",
    "        if myHead != None :\n",
    "            print ('conditional tree for: ', newFreqSet)\n",
    "            myCondTree.disp()\n",
    "            mineTree(myCondTree, myHead, minSup, newFreqSet, freqItemList)"
   ]
  },
  {
   "cell_type": "code",
   "execution_count": 105,
   "metadata": {},
   "outputs": [],
   "source": [
    "freqItems = []"
   ]
  },
  {
   "cell_type": "code",
   "execution_count": 106,
   "metadata": {},
   "outputs": [
    {
     "name": "stdout",
     "output_type": "stream",
     "text": [
      "conditional tree for:  {'y'}\n",
      "  Null Set   1\n",
      "   <__main__.treeNode object at 0x000001B0EEE59F98>   3\n",
      "    <__main__.treeNode object at 0x000001B0EEE59E48>   3\n",
      "conditional tree for:  {<__main__.treeNode object at 0x000001B0EEE59E48>, 'y'}\n",
      "  Null Set   1\n",
      "   <__main__.treeNode object at 0x000001B0EEE77EB8>   3\n",
      "conditional tree for:  {'t'}\n",
      "  Null Set   1\n",
      "   <__main__.treeNode object at 0x000001B0EEE59F98>   3\n",
      "    <__main__.treeNode object at 0x000001B0EEE59E48>   3\n",
      "conditional tree for:  {<__main__.treeNode object at 0x000001B0EEE59E48>, 't'}\n",
      "  Null Set   1\n",
      "   <__main__.treeNode object at 0x000001B0EEE77278>   3\n",
      "conditional tree for:  {'x'}\n",
      "  Null Set   1\n",
      "   <__main__.treeNode object at 0x000001B0EEE59F98>   3\n"
     ]
    }
   ],
   "source": [
    "mineTree(myFPtree, myHeaderTab, 3, set([]), freqItems)"
   ]
  },
  {
   "cell_type": "code",
   "execution_count": 107,
   "metadata": {},
   "outputs": [
    {
     "data": {
      "text/plain": [
       "[{'r'},\n",
       " {'s'},\n",
       " {'y'},\n",
       " {<__main__.treeNode at 0x1b0eee59f98>, 'y'},\n",
       " {<__main__.treeNode at 0x1b0eee59e48>, 'y'},\n",
       " {<__main__.treeNode at 0x1b0eee59e48>,\n",
       "  'y',\n",
       "  <__main__.treeNode at 0x1b0eee77eb8>},\n",
       " {'t'},\n",
       " {<__main__.treeNode at 0x1b0eee59f98>, 't'},\n",
       " {<__main__.treeNode at 0x1b0eee59e48>, 't'},\n",
       " {<__main__.treeNode at 0x1b0eee59e48>,\n",
       "  <__main__.treeNode at 0x1b0eee77278>,\n",
       "  't'},\n",
       " {'x'},\n",
       " {<__main__.treeNode at 0x1b0eee59f98>, 'x'},\n",
       " {'z'}]"
      ]
     },
     "execution_count": 107,
     "metadata": {},
     "output_type": "execute_result"
    }
   ],
   "source": [
    "freqItems"
   ]
  },
  {
   "cell_type": "code",
   "execution_count": null,
   "metadata": {},
   "outputs": [],
   "source": []
  },
  {
   "cell_type": "code",
   "execution_count": null,
   "metadata": {},
   "outputs": [],
   "source": []
  }
 ],
 "metadata": {
  "kernelspec": {
   "display_name": "Python 3",
   "language": "python",
   "name": "python3"
  },
  "language_info": {
   "codemirror_mode": {
    "name": "ipython",
    "version": 3
   },
   "file_extension": ".py",
   "mimetype": "text/x-python",
   "name": "python",
   "nbconvert_exporter": "python",
   "pygments_lexer": "ipython3",
   "version": "3.6.5"
  }
 },
 "nbformat": 4,
 "nbformat_minor": 2
}
