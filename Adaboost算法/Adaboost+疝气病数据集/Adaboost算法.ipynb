{
 "cells": [
  {
   "cell_type": "code",
   "execution_count": 1,
   "metadata": {},
   "outputs": [],
   "source": [
    "import pandas as pd\n",
    "import numpy as np"
   ]
  },
  {
   "cell_type": "code",
   "execution_count": 10,
   "metadata": {},
   "outputs": [],
   "source": [
    "# 获得特征矩阵和标签矩阵\n",
    "def get_Mat(path):\n",
    "    dataSet = pd.read_table(path,header = None)\n",
    "    xMat = np.mat(dataSet.iloc[:,:-1].values)\n",
    "    yMat = np.mat(dataSet.iloc[:,-1].values).T\n",
    "    return xMat,yMat"
   ]
  },
  {
   "cell_type": "code",
   "execution_count": 47,
   "metadata": {},
   "outputs": [],
   "source": [
    "xMat , yMat = get_Mat('simpdata.txt')"
   ]
  },
  {
   "cell_type": "code",
   "execution_count": 48,
   "metadata": {},
   "outputs": [
    {
     "data": {
      "text/plain": [
       "matrix([[1. , 2.1],\n",
       "        [1.5, 1.6],\n",
       "        [1.3, 1. ],\n",
       "        [1. , 1. ],\n",
       "        [2. , 1. ]])"
      ]
     },
     "execution_count": 48,
     "metadata": {},
     "output_type": "execute_result"
    }
   ],
   "source": [
    "xMat"
   ]
  },
  {
   "cell_type": "code",
   "execution_count": 49,
   "metadata": {},
   "outputs": [
    {
     "data": {
      "text/plain": [
       "matrix([[ 1.],\n",
       "        [ 1.],\n",
       "        [-1.],\n",
       "        [-1.],\n",
       "        [ 1.]])"
      ]
     },
     "execution_count": 49,
     "metadata": {},
     "output_type": "execute_result"
    }
   ],
   "source": [
    "yMat"
   ]
  },
  {
   "cell_type": "code",
   "execution_count": 50,
   "metadata": {},
   "outputs": [],
   "source": [
    "import matplotlib.pyplot as plt\n",
    "plt.rcParams['font.sans-serif']=['simhei'] # 可以输入中文\n",
    "# 在Jupyter内部显示图\n",
    "%matplotlib inline \n",
    "\n",
    "# 数据集可视化函数\n",
    "def showPlot(xMat,yMat):\n",
    "    x = np.array(xMat[:,0]) # 横坐标\n",
    "    y = np.array(xMat[:,1]) # 纵坐标\n",
    "    label = np.array(yMat) # 标签\n",
    "    plt.scatter(x,y,c=label)\n",
    "    plt.title('单层决策树测试数据')\n",
    "    plt.show()"
   ]
  },
  {
   "cell_type": "code",
   "execution_count": 51,
   "metadata": {},
   "outputs": [
    {
     "data": {
      "image/png": "[encoded data removed]",
      "text/plain": [
       "<Figure size 432x288 with 1 Axes>"
      ]
     },
     "metadata": {},
     "output_type": "display_data"
    }
   ],
   "source": [
    "showPlot(xMat,yMat)"
   ]
  },
  {
   "cell_type": "code",
   "execution_count": 17,
   "metadata": {},
   "outputs": [],
   "source": [
    "\"\"\"\n",
    "函数功能：单层决策树分类函数\n",
    "参数说明：\n",
    "    xMat ：数据矩阵\n",
    "    i ： 第i列，也就是第几个特征\n",
    "    Q ： 阈值\n",
    "    S :  标志\n",
    "返回 :\n",
    "    re : 分类结果\n",
    "\"\"\"\n",
    "def Classify0(xMat,i,Q,S):\n",
    "    re = np.ones((xMat.shape[0],1)) # 初始化re为1\n",
    "    if S == 'lt':\n",
    "        re[xMat[:,i] <= Q] = -1     # 如果小于阈值，赋为-1\n",
    "    else:\n",
    "        re[xMat[:,i] > Q ] = -1     # 如果大于阈值，赋为-1\n",
    "    return re"
   ]
  },
  {
   "cell_type": "code",
   "execution_count": 52,
   "metadata": {},
   "outputs": [],
   "source": [
    "\"\"\"\n",
    "函数功能：找到数据集上最佳的单层决策树\n",
    "参数说明：\n",
    "    xMat ：特征矩阵\n",
    "    yMat : 标签矩阵\n",
    "    D : 样本权重\n",
    "返回：\n",
    "    bestStump : 最佳单层决策树信息\n",
    "    minE : 最小误差\n",
    "    bestClas : 最佳的分类结果\n",
    "\"\"\"\n",
    "def get_Stump(xMat,yMat,D):\n",
    "    m,n = xMat.shape # m为样本个数，n为特征数\n",
    "    Steps = 10 # 初始化步长\n",
    "    bestStump = {} # 用字典形式来存储树桩信息\n",
    "    bestClas = np.mat(np.zeros((m,1))) # 初始化分类结果为1\n",
    "    minE = np.inf # 最小误差初始化正无穷大\n",
    "    for i in range(n): # 遍历所有特征\n",
    "        Min = xMat[:,i].min() # 找到特征中的最小值\n",
    "        Max = xMat[:,i].max() # 找到特征中的最大值\n",
    "        stepSize = (Max - Min) / Steps # 计算步长\n",
    "        for j in range(-1 , int(Steps)+1): \n",
    "            for S in ['lt','gt']: # 大于和小于的情况，均遍历\n",
    "                Q = (Min + j * stepSize) # 计算阈值\n",
    "                re = Classify0(xMat , i , Q ,S) # 计算分类结果\n",
    "                err = np.mat(np.ones((m,1))) # 初始化误差矩阵\n",
    "                err[re == yMat] = 0 # 分类正确的，赋值为0\n",
    "                eca = D.T * err # 计算加权的错误率\n",
    "                if eca < minE: # 找到误差最小的分类方式\n",
    "                    minE = eca\n",
    "                    bestClas = re.copy()\n",
    "                    bestStump['特征列'] = i\n",
    "                    bestStump['阈值'] = Q\n",
    "                    bestStump['标志'] = S\n",
    "    return bestStump , minE , bestClas"
   ]
  },
  {
   "cell_type": "code",
   "execution_count": 24,
   "metadata": {},
   "outputs": [],
   "source": [
    "m = xMat.shape[0]\n",
    "D = np.mat(np.ones((m,1))/m)\n",
    "bestStump , minE , bestClas = get_Stump(xMat,yMat,D)"
   ]
  },
  {
   "cell_type": "code",
   "execution_count": 25,
   "metadata": {},
   "outputs": [
    {
     "data": {
      "text/plain": [
       "{'标志': 'lt', '特征列': 0, '阈值': 1.3}"
      ]
     },
     "execution_count": 25,
     "metadata": {},
     "output_type": "execute_result"
    }
   ],
   "source": [
    "bestStump"
   ]
  },
  {
   "cell_type": "code",
   "execution_count": 26,
   "metadata": {},
   "outputs": [
    {
     "data": {
      "text/plain": [
       "matrix([[0.2]])"
      ]
     },
     "execution_count": 26,
     "metadata": {},
     "output_type": "execute_result"
    }
   ],
   "source": [
    "minE"
   ]
  },
  {
   "cell_type": "code",
   "execution_count": 27,
   "metadata": {},
   "outputs": [
    {
     "data": {
      "text/plain": [
       "array([[-1.],\n",
       "       [ 1.],\n",
       "       [-1.],\n",
       "       [-1.],\n",
       "       [ 1.]])"
      ]
     },
     "execution_count": 27,
     "metadata": {},
     "output_type": "execute_result"
    }
   ],
   "source": [
    "bestClas"
   ]
  },
  {
   "cell_type": "code",
   "execution_count": 74,
   "metadata": {},
   "outputs": [],
   "source": [
    "\"\"\"\n",
    "函数功能：基于单层决策树的AdaBoost训练过程\n",
    "参数说明：\n",
    "    xMat: 特征矩阵\n",
    "    yMat：标签矩阵\n",
    "    maxC：最大迭代次数\n",
    "返回：\n",
    "    weakClass：弱分类信息\n",
    "    aggClass：类别估计值（其实就是更改了标签的估计值）\n",
    "\"\"\"\n",
    "def Ada_train(xMat,yMat,maxC = 40):\n",
    "    weakClass = []\n",
    "    m = xMat.shape[0]\n",
    "    D = np.mat(np.ones((m,1)) / m ) # 初始化权重\n",
    "    aggClass = np.mat(np.zeros((m,1)))\n",
    "    for i in range(maxC):\n",
    "        Stump,error,bestClas = get_Stump(xMat,yMat,D) # 构建单层决策树\n",
    "        alpha = float(0.5 * np.log((1 - error) / max(error , 1e-16))) # 计算弱分类器权重,max(error,1e-16)是为了防止错误率为0而造成分母为0的情况发生\n",
    "        Stump['alpha'] = np.round(alpha , 2) # 存储弱学习算法权重，保留两位小数\n",
    "        weakClass.append(Stump) # 存储单层决策树\n",
    "        #预测正确为exp(-alpha),预测错误为exp(alpha)\n",
    "        #即增大分类错误样本的权重，减少分类正确的数据点权重\n",
    "        expon = np.multiply(-1 * alpha * yMat , bestClas) # 计算e的指数项\n",
    "        D = np.multiply(D , np.exp(expon))  \n",
    "        D = D / D.sum() # 根据样本权重公式，更新样本权重\n",
    "        aggClass += alpha * bestClas # 更新类别估计值\n",
    "        aggErr = np.multiply(np.sign(aggClass) != yMat , np.ones((m,1))) # 计算误差\n",
    "        errRate = aggErr.sum() / m \n",
    "        #print(\"误差：\",errRate)\n",
    "        if errRate == 0 : # 误差为0，退出循环\n",
    "            break\n",
    "    return weakClass , aggClass\n",
    "        "
   ]
  },
  {
   "cell_type": "code",
   "execution_count": 67,
   "metadata": {},
   "outputs": [
    {
     "name": "stdout",
     "output_type": "stream",
     "text": [
      "误差： 0.2\n",
      "误差： 0.2\n",
      "误差： 0.0\n"
     ]
    }
   ],
   "source": [
    "weakClass, aggClass =Ada_train(xMat, yMat, maxC = 40) "
   ]
  },
  {
   "cell_type": "code",
   "execution_count": 68,
   "metadata": {},
   "outputs": [
    {
     "data": {
      "text/plain": [
       "[{'alpha': 0.69, '标志': 'lt', '特征列': 0, '阈值': 1.3},\n",
       " {'alpha': 0.97, '标志': 'lt', '特征列': 1, '阈值': 1.0},\n",
       " {'alpha': 0.9, '标志': 'lt', '特征列': 0, '阈值': 0.9}]"
      ]
     },
     "execution_count": 68,
     "metadata": {},
     "output_type": "execute_result"
    }
   ],
   "source": [
    "weakClass "
   ]
  },
  {
   "cell_type": "code",
   "execution_count": 63,
   "metadata": {},
   "outputs": [
    {
     "data": {
      "text/plain": [
       "matrix([[ 1.17568763],\n",
       "        [ 2.56198199],\n",
       "        [-0.77022252],\n",
       "        [-0.77022252],\n",
       "        [ 0.61607184]])"
      ]
     },
     "execution_count": 63,
     "metadata": {},
     "output_type": "execute_result"
    }
   ],
   "source": [
    "aggClass"
   ]
  },
  {
   "cell_type": "code",
   "execution_count": 69,
   "metadata": {},
   "outputs": [],
   "source": [
    "\"\"\" \n",
    "函数功能：AdaBoost分类函数 \n",
    "参数说明：    \n",
    "    data: 待分类样例    \n",
    "    classifys:训练好的分类器 \n",
    "返回:    \n",
    "    分类结果 \n",
    "    \"\"\" \n",
    "def AdaClassify(data,weakClass):\n",
    "    dataMat = np.mat(data)\n",
    "    m = dataMat.shape[0]\n",
    "    aggClass = np.mat(np.zeros((m,1)))\n",
    "    for i in range(len(weakClass)): #遍历所有分类器，进行分类        \n",
    "        classEst = Classify0(dataMat,\n",
    "                             weakClass[i]['特征列'],\n",
    "                             weakClass[i]['阈值'],\n",
    "                             weakClass[i]['标志'])\n",
    "        aggClass += weakClass[i]['alpha'] * classEst\n",
    "        #print(aggClass)    \n",
    "    return np.sign(aggClass)"
   ]
  },
  {
   "cell_type": "code",
   "execution_count": 70,
   "metadata": {},
   "outputs": [
    {
     "data": {
      "text/plain": [
       "matrix([[-1.]])"
      ]
     },
     "execution_count": 70,
     "metadata": {},
     "output_type": "execute_result"
    }
   ],
   "source": [
    "AdaClassify([0,0],weakClass)"
   ]
  },
  {
   "cell_type": "code",
   "execution_count": 77,
   "metadata": {},
   "outputs": [],
   "source": [
    "def calAcc(maxC = 40):\n",
    "    train_xMat , train_yMat = get_Mat('horseColicTraining2.txt')\n",
    "    m = train_xMat.shape[0]\n",
    "    weakClass , aggClass = Ada_train(train_xMat , train_yMat , maxC)\n",
    "    yhat = AdaClassify(train_xMat,weakClass)\n",
    "    train_re = 0\n",
    "    for i in range(m):\n",
    "        if yhat[i] == train_yMat[i]:\n",
    "            train_re += 1\n",
    "    train_acc = train_re / m\n",
    "    print(f'训练集准确率{train_acc}')\n",
    "    \n",
    "    test_re = 0\n",
    "    test_xMat , test_yMat = get_Mat('horseColicTest2.txt')\n",
    "    n = test_xMat.shape[0]\n",
    "    yhat = AdaClassify(test_xMat , weakClass)\n",
    "    for i in range(n):\n",
    "        if yhat[i] == test_yMat[i]:\n",
    "            test_re += 1\n",
    "    test_acc = test_re / n\n",
    "    print(f'测试集准确率{test_acc}')\n",
    "    return train_acc,test_acc"
   ]
  },
  {
   "cell_type": "code",
   "execution_count": 78,
   "metadata": {},
   "outputs": [
    {
     "name": "stdout",
     "output_type": "stream",
     "text": [
      "训练集准确率0.802675585284281\n",
      "测试集准确率0.8059701492537313\n"
     ]
    },
    {
     "data": {
      "text/plain": [
       "(0.802675585284281, 0.8059701492537313)"
      ]
     },
     "execution_count": 78,
     "metadata": {},
     "output_type": "execute_result"
    }
   ],
   "source": [
    "calAcc(maxC = 40)"
   ]
  },
  {
   "cell_type": "code",
   "execution_count": 81,
   "metadata": {},
   "outputs": [
    {
     "name": "stdout",
     "output_type": "stream",
     "text": [
      "训练集准确率0.7157190635451505\n",
      "测试集准确率0.7313432835820896\n",
      "训练集准确率0.7658862876254181\n",
      "测试集准确率0.7611940298507462\n",
      "训练集准确率0.8093645484949833\n",
      "测试集准确率0.7910447761194029\n",
      "训练集准确率0.8093645484949833\n",
      "测试集准确率0.7761194029850746\n",
      "训练集准确率0.8595317725752508\n",
      "测试集准确率0.7313432835820896\n",
      "训练集准确率0.8963210702341137\n",
      "测试集准确率0.6716417910447762\n"
     ]
    },
    {
     "data": {
      "text/html": [
       "<div>\n",
       "<style scoped>\n",
       "    .dataframe tbody tr th:only-of-type {\n",
       "        vertical-align: middle;\n",
       "    }\n",
       "\n",
       "    .dataframe tbody tr th {\n",
       "        vertical-align: top;\n",
       "    }\n",
       "\n",
       "    .dataframe thead th {\n",
       "        text-align: right;\n",
       "    }\n",
       "</style>\n",
       "<table border=\"1\" class=\"dataframe\">\n",
       "  <thead>\n",
       "    <tr style=\"text-align: right;\">\n",
       "      <th></th>\n",
       "      <th>分类器数目</th>\n",
       "      <th>训练集准确率</th>\n",
       "      <th>测试集准确率</th>\n",
       "    </tr>\n",
       "  </thead>\n",
       "  <tbody>\n",
       "    <tr>\n",
       "      <th>0</th>\n",
       "      <td>1</td>\n",
       "      <td>71.57</td>\n",
       "      <td>73.13</td>\n",
       "    </tr>\n",
       "    <tr>\n",
       "      <th>1</th>\n",
       "      <td>10</td>\n",
       "      <td>76.59</td>\n",
       "      <td>76.12</td>\n",
       "    </tr>\n",
       "    <tr>\n",
       "      <th>2</th>\n",
       "      <td>50</td>\n",
       "      <td>80.94</td>\n",
       "      <td>79.10</td>\n",
       "    </tr>\n",
       "    <tr>\n",
       "      <th>3</th>\n",
       "      <td>100</td>\n",
       "      <td>80.94</td>\n",
       "      <td>77.61</td>\n",
       "    </tr>\n",
       "    <tr>\n",
       "      <th>4</th>\n",
       "      <td>1000</td>\n",
       "      <td>85.95</td>\n",
       "      <td>73.13</td>\n",
       "    </tr>\n",
       "    <tr>\n",
       "      <th>5</th>\n",
       "      <td>10000</td>\n",
       "      <td>89.63</td>\n",
       "      <td>67.16</td>\n",
       "    </tr>\n",
       "  </tbody>\n",
       "</table>\n",
       "</div>"
      ],
      "text/plain": [
       "   分类器数目  训练集准确率  测试集准确率\n",
       "0      1   71.57   73.13\n",
       "1     10   76.59   76.12\n",
       "2     50   80.94   79.10\n",
       "3    100   80.94   77.61\n",
       "4   1000   85.95   73.13\n",
       "5  10000   89.63   67.16"
      ]
     },
     "execution_count": 81,
     "metadata": {},
     "output_type": "execute_result"
    }
   ],
   "source": [
    "Cycles = [1,10,50,100,1000,10000]\n",
    "train_acc = []\n",
    "test_acc = []\n",
    "for maxC in Cycles:\n",
    "    a,b = calAcc(maxC)\n",
    "    train_acc.append(round(a*100 , 2))\n",
    "    test_acc.append(round(b*100,2))\n",
    "df = pd.DataFrame({\"分类器数目\":Cycles,\n",
    "                  \"训练集准确率\":train_acc,\n",
    "                  \"测试集准确率\":test_acc})\n",
    "df"
   ]
  },
  {
   "cell_type": "code",
   "execution_count": null,
   "metadata": {},
   "outputs": [],
   "source": []
  }
 ],
 "metadata": {
  "kernelspec": {
   "display_name": "Python 3",
   "language": "python",
   "name": "python3"
  },
  "language_info": {
   "codemirror_mode": {
    "name": "ipython",
    "version": 3
   },
   "file_extension": ".py",
   "mimetype": "text/x-python",
   "name": "python",
   "nbconvert_exporter": "python",
   "pygments_lexer": "ipython3",
   "version": "3.6.5"
  }
 },
 "nbformat": 4,
 "nbformat_minor": 2
}
