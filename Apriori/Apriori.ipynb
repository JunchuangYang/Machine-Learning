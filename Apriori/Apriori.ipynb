{
 "cells": [
  {
   "cell_type": "code",
   "execution_count": 1,
   "metadata": {},
   "outputs": [],
   "source": [
    "import numpy as np\n",
    "import pandas as pd"
   ]
  },
  {
   "cell_type": "code",
   "execution_count": 3,
   "metadata": {},
   "outputs": [],
   "source": [
    "'''\n",
    "简单测试数据集\n",
    "'''\n",
    "def loadDataSet():\n",
    "    dataSet = [[1,3,4],[2,3,5],[1,2,3,5],[2,5]]\n",
    "    return dataSet"
   ]
  },
  {
   "cell_type": "code",
   "execution_count": 4,
   "metadata": {},
   "outputs": [
    {
     "data": {
      "text/plain": [
       "[[1, 3, 4], [2, 3, 5], [1, 2, 3, 5], [2, 5]]"
      ]
     },
     "execution_count": 4,
     "metadata": {},
     "output_type": "execute_result"
    }
   ],
   "source": [
    "dataSet = loadDataSet()\n",
    "dataSet"
   ]
  },
  {
   "cell_type": "code",
   "execution_count": 6,
   "metadata": {},
   "outputs": [],
   "source": [
    "'''\n",
    "函数功能：生成第一个候选集合C1\n",
    "参数说明：\n",
    "    dataSet：原始数据集\n",
    "返回：\n",
    "    frozenset形式的候选集合C1\n",
    "'''\n",
    "def createC1(dataSet):\n",
    "    C1 = []\n",
    "    for transaction  in dataSet:\n",
    "        for item in transaction:\n",
    "            if not {item} in C1:\n",
    "                C1.append({item})\n",
    "    C1.sort()\n",
    "    return list(map(frozenset,C1))"
   ]
  },
  {
   "cell_type": "code",
   "execution_count": 7,
   "metadata": {},
   "outputs": [
    {
     "data": {
      "text/plain": [
       "[frozenset({1}),\n",
       " frozenset({3}),\n",
       " frozenset({4}),\n",
       " frozenset({2}),\n",
       " frozenset({5})]"
      ]
     },
     "execution_count": 7,
     "metadata": {},
     "output_type": "execute_result"
    }
   ],
   "source": [
    "C1 = createC1(dataSet)\n",
    "C1"
   ]
  },
  {
   "cell_type": "code",
   "execution_count": 8,
   "metadata": {},
   "outputs": [],
   "source": [
    "'''\n",
    "函数功能：生成满足最小支持度的频繁项集L1\n",
    "参数说明：\n",
    "    D：原始数据集\n",
    "    ck：候选项集\n",
    "    minSupport：最小支持度\n",
    "返回：\n",
    "    retList：频繁项集\n",
    "    supportData：候选项集的支持度\n",
    "'''\n",
    "def scanD(D,ck,minSupport):\n",
    "    ssCnt = {}\n",
    "    for tid in D:\n",
    "        for can in ck:\n",
    "            if can.issubset(tid): # 判断can是否是tid的子集，返回bool类型\n",
    "                if can not in ssCnt.keys():\n",
    "                    ssCnt[can] = 1\n",
    "                else:\n",
    "                    ssCnt[can] += 1\n",
    "    numItems = float(len(D))\n",
    "    retList = []\n",
    "    supportData = {} # 候选项集Ck的支持度字典（key：候选项，value：支持度）\n",
    "    for key in ssCnt:\n",
    "        support = ssCnt[key] / numItems\n",
    "        supportData[key] = support\n",
    "        if support >= minSupport:\n",
    "            retList.append(key)\n",
    "    return retList,supportData"
   ]
  },
  {
   "cell_type": "code",
   "execution_count": 9,
   "metadata": {},
   "outputs": [],
   "source": [
    "L1 , supportData = scanD(dataSet,C1,0.5)"
   ]
  },
  {
   "cell_type": "code",
   "execution_count": 10,
   "metadata": {},
   "outputs": [
    {
     "data": {
      "text/plain": [
       "([frozenset({1}), frozenset({3}), frozenset({2}), frozenset({5})],\n",
       " {frozenset({1}): 0.5,\n",
       "  frozenset({3}): 0.75,\n",
       "  frozenset({4}): 0.25,\n",
       "  frozenset({2}): 0.75,\n",
       "  frozenset({5}): 0.75})"
      ]
     },
     "execution_count": 10,
     "metadata": {},
     "output_type": "execute_result"
    }
   ],
   "source": [
    "L1,supportData"
   ]
  },
  {
   "cell_type": "code",
   "execution_count": 33,
   "metadata": {},
   "outputs": [],
   "source": [
    "'''\n",
    "函数功能：创建候选项集Ck\n",
    "参数说明：\n",
    "    Lk：频繁项集列表Lk\n",
    "    k：项集元素个数\n",
    "返回：\n",
    "    Ck：候选项集(无重复)\n",
    "'''\n",
    "def aprioriGen(Lk,k):\n",
    "    Ck = []\n",
    "    lenLk = len(Lk)\n",
    "    for i in range(lenLk):\n",
    "        for j in range(i+1,lenLk):\n",
    "            # 前k-2个项相同时，将两个集合合并\n",
    "            L1 = list(Lk[i])[:k-2]\n",
    "            L1.sort()\n",
    "            L2 = list(Lk[j])[:k-2]\n",
    "            L2.sort()\n",
    "            if L1 == L2:\n",
    "                Ck.append(Lk[i] | Lk[j])\n",
    "    return Ck"
   ]
  },
  {
   "cell_type": "code",
   "execution_count": 35,
   "metadata": {},
   "outputs": [],
   "source": [
    "'''\n",
    "参数说明：\n",
    "    D：原始数据集\n",
    "    minSupport：最小支持度\n",
    "返回：\n",
    "    L：所有项集\n",
    "    supportData：项集：支持度\n",
    "'''\n",
    "def apriori(D,minSupport = 0.5):\n",
    "    C1 = createC1(D)\n",
    "    L1 , supportData = scanD(D,C1,minSupport)\n",
    "    L = [L1]\n",
    "    k = 2\n",
    "    while(len(L[k-2]) > 0):\n",
    "        ck = aprioriGen(L[k-2],k)\n",
    "        Lk , supK = scanD(D,ck,minSupport)\n",
    "        supportData.update(supK)\n",
    "        L.append(Lk)\n",
    "        k += 1\n",
    "    return L,supportData"
   ]
  },
  {
   "cell_type": "code",
   "execution_count": 16,
   "metadata": {},
   "outputs": [],
   "source": [
    "L , supportData = apriori(dataSet,minSupport = 0.5)"
   ]
  },
  {
   "cell_type": "code",
   "execution_count": 17,
   "metadata": {},
   "outputs": [
    {
     "data": {
      "text/plain": [
       "([[frozenset({1}), frozenset({3}), frozenset({2}), frozenset({5})],\n",
       "  [frozenset({1, 3}), frozenset({2, 3}), frozenset({3, 5}), frozenset({2, 5})],\n",
       "  [frozenset({2, 3, 5})],\n",
       "  []],\n",
       " {frozenset({1}): 0.5,\n",
       "  frozenset({3}): 0.75,\n",
       "  frozenset({4}): 0.25,\n",
       "  frozenset({2}): 0.75,\n",
       "  frozenset({5}): 0.75,\n",
       "  frozenset({1, 3}): 0.5,\n",
       "  frozenset({2, 3}): 0.5,\n",
       "  frozenset({3, 5}): 0.5,\n",
       "  frozenset({2, 5}): 0.75,\n",
       "  frozenset({1, 2}): 0.25,\n",
       "  frozenset({1, 5}): 0.25,\n",
       "  frozenset({2, 3, 5}): 0.5})"
      ]
     },
     "execution_count": 17,
     "metadata": {},
     "output_type": "execute_result"
    }
   ],
   "source": [
    "L,supportData"
   ]
  },
  {
   "cell_type": "code",
   "execution_count": 34,
   "metadata": {},
   "outputs": [],
   "source": [
    "'''\n",
    "函数功能：计算规则的可信度以及找到满足最小可信度要求的规则\n",
    "'''\n",
    "def calcConf(freqSet,H,supportData,br1,minConf=0.7):\n",
    "    prunedH = []\n",
    "    for conseq in H:\n",
    "        conf = supportData[freqSet] / supportData[freqSet - conseq]\n",
    "        if conf > minConf:\n",
    "            print (freqSet - conseq , '--->',conseq , 'conf:'  , conf)\n",
    "            br1.append((freqSet - conseq,conseq,conf))\n",
    "            prunedH.append(conseq)\n",
    "    return prunedH"
   ]
  },
  {
   "cell_type": "code",
   "execution_count": 31,
   "metadata": {},
   "outputs": [],
   "source": [
    "'''\n",
    "函数功能：从最初的项集中生成更多的规则\n",
    "'''\n",
    "def rulesFromConseq(freqSet,H,supportData,br1,minConf = 0.7):\n",
    "    m = len(H[0])\n",
    "    if (len(freqSet) > (m+1)):\n",
    "        Hmp1 = aprioriGen(H , m+1)\n",
    "        Hmp1 = calcConf(freqSet,Hmp1,supportData,br1,minConf)\n",
    "        if len(Hmp1) > 1:\n",
    "            rulesFromConseq(freqSet,Hmp1,supportData,br1,minConf )"
   ]
  },
  {
   "cell_type": "code",
   "execution_count": 25,
   "metadata": {},
   "outputs": [],
   "source": [
    "'''\n",
    "参数说明：\n",
    "    L:频繁项集列表\n",
    "    SupportData：频繁项集支持数据的字典\n",
    "    minConf：最小可信度阈值\n",
    "返回：\n",
    "    bigRuleList：包含可信度的规则列表\n",
    "'''\n",
    "def generateRules(L,supportData,minConf = 0.7):\n",
    "    bigRuleList = []\n",
    "    for i in range(1,len(L)):\n",
    "        for freqSet in L[i]:\n",
    "            H1 = [frozenset([item]) for item in freqSet]\n",
    "            if i > 1:\n",
    "                rulesFromConseq(freqSet,H1,supportData,bigRuleList,minConf )\n",
    "            else :\n",
    "                calcConf(freqSet,H1,supportData,bigRuleList,minConf)\n",
    "    return bigRuleList"
   ]
  },
  {
   "cell_type": "code",
   "execution_count": 29,
   "metadata": {},
   "outputs": [
    {
     "name": "stdout",
     "output_type": "stream",
     "text": [
      "frozenset({1}) ---> frozenset({3}) conf: 1.0\n",
      "frozenset({5}) ---> frozenset({2}) conf: 1.0\n",
      "frozenset({2}) ---> frozenset({5}) conf: 1.0\n"
     ]
    }
   ],
   "source": [
    "L,suppData = apriori(dataSet,minSupport = 0.5)\n",
    "rules = generateRules(L,suppData,minConf=0.7)"
   ]
  },
  {
   "cell_type": "code",
   "execution_count": 32,
   "metadata": {},
   "outputs": [
    {
     "data": {
      "text/plain": [
       "([[frozenset({1}), frozenset({3}), frozenset({2}), frozenset({5})],\n",
       "  [frozenset({1, 3}), frozenset({2, 3}), frozenset({3, 5}), frozenset({2, 5})],\n",
       "  [frozenset({2, 3, 5})],\n",
       "  []],\n",
       " {frozenset({1}): 0.5,\n",
       "  frozenset({3}): 0.75,\n",
       "  frozenset({4}): 0.25,\n",
       "  frozenset({2}): 0.75,\n",
       "  frozenset({5}): 0.75,\n",
       "  frozenset({1, 3}): 0.5,\n",
       "  frozenset({2, 3}): 0.5,\n",
       "  frozenset({3, 5}): 0.5,\n",
       "  frozenset({2, 5}): 0.75,\n",
       "  frozenset({1, 2}): 0.25,\n",
       "  frozenset({1, 5}): 0.25,\n",
       "  frozenset({2, 3, 5}): 0.5})"
      ]
     },
     "execution_count": 32,
     "metadata": {},
     "output_type": "execute_result"
    }
   ],
   "source": [
    "L,suppData"
   ]
  },
  {
   "cell_type": "code",
   "execution_count": 30,
   "metadata": {},
   "outputs": [
    {
     "name": "stdout",
     "output_type": "stream",
     "text": [
      "frozenset({3}) ---> frozenset({1}) conf: 0.6666666666666666\n",
      "frozenset({1}) ---> frozenset({3}) conf: 1.0\n",
      "frozenset({3}) ---> frozenset({2}) conf: 0.6666666666666666\n",
      "frozenset({2}) ---> frozenset({3}) conf: 0.6666666666666666\n",
      "frozenset({5}) ---> frozenset({3}) conf: 0.6666666666666666\n",
      "frozenset({3}) ---> frozenset({5}) conf: 0.6666666666666666\n",
      "frozenset({5}) ---> frozenset({2}) conf: 1.0\n",
      "frozenset({2}) ---> frozenset({5}) conf: 1.0\n",
      "frozenset({5}) ---> frozenset({2, 3}) conf: 0.6666666666666666\n",
      "frozenset({3}) ---> frozenset({2, 5}) conf: 0.6666666666666666\n",
      "frozenset({2}) ---> frozenset({3, 5}) conf: 0.6666666666666666\n"
     ]
    }
   ],
   "source": [
    "rules = generateRules(L,suppData,minConf=0.5)"
   ]
  },
  {
   "cell_type": "code",
   "execution_count": null,
   "metadata": {},
   "outputs": [],
   "source": [
    "# 毒蘑菇数据测试(只用了毒蘑菇数据中的前100条数据)\n",
    "mushDatSet = [line.split() for line in open('mushroom.dat').readlines()]\n",
    "M1,MsuppData = apriori(mushDatSet,minSupport = 0.3)\n",
    "#与毒蘑菇频繁出现的一项特征\n",
    "for item in M1[1]:\n",
    "    if item.intersection('2'):\n",
    "        print (item)\n",
    "#与毒蘑菇频繁出现的二项特征\n",
    "for item in M1[2]:\n",
    "    if item.intersection('2'):\n",
    "        print (item)"
   ]
  },
  {
   "cell_type": "code",
   "execution_count": null,
   "metadata": {},
   "outputs": [],
   "source": []
  }
 ],
 "metadata": {
  "kernelspec": {
   "display_name": "Python 3",
   "language": "python",
   "name": "python3"
  },
  "language_info": {
   "codemirror_mode": {
    "name": "ipython",
    "version": 3
   },
   "file_extension": ".py",
   "mimetype": "text/x-python",
   "name": "python",
   "nbconvert_exporter": "python",
   "pygments_lexer": "ipython3",
   "version": "3.6.5"
  }
 },
 "nbformat": 4,
 "nbformat_minor": 2
}
