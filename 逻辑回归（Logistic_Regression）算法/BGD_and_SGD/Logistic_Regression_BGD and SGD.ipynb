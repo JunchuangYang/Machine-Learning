{
 "cells": [
  {
   "cell_type": "code",
   "execution_count": 4,
   "metadata": {},
   "outputs": [],
   "source": [
    "import numpy as np\n",
    "import math\n",
    "import matplotlib.pyplot as plt\n",
    "%matplotlib inline"
   ]
  },
  {
   "cell_type": "code",
   "execution_count": 6,
   "metadata": {},
   "outputs": [
    {
     "data": {
      "image/png": "[encoded data removed]",
      "text/plain": [
       "<Figure size 432x288 with 1 Axes>"
      ]
     },
     "metadata": {},
     "output_type": "display_data"
    }
   ],
   "source": [
    "# -5到5内生成200个点\n",
    "X = np.linspace(-5,5,200)\n",
    "y = [1/(1 + math.e**(-x)) for x in X]\n",
    "plt.plot(X,y)\n",
    "plt.show()"
   ]
  },
  {
   "cell_type": "code",
   "execution_count": 7,
   "metadata": {},
   "outputs": [
    {
     "data": {
      "image/png": "[encoded data removed]",
      "text/plain": [
       "<Figure size 432x288 with 1 Axes>"
      ]
     },
     "metadata": {},
     "output_type": "display_data"
    }
   ],
   "source": [
    "# 扩大x轴的范围\n",
    "# -60到60内生成200个点\n",
    "X = np.linspace(-60,60,200)\n",
    "y = [1/(1 + math.e**(-x)) for x in X]\n",
    "plt.plot(X,y)\n",
    "plt.show()"
   ]
  },
  {
   "cell_type": "markdown",
   "metadata": {},
   "source": [
    "使用BGD求解逻辑回归\n",
    "\n",
    "伪代码：\n",
    "    每个回归系数初始化为1\n",
    "    重复下面的步骤直至收敛：\n",
    "        计算整个数据集的梯度\n",
    "        使用alpha*gradient更新回归系数的向量\n",
    "    返回回归系数"
   ]
  },
  {
   "cell_type": "code",
   "execution_count": 12,
   "metadata": {},
   "outputs": [],
   "source": [
    "import pandas as pd\n",
    "import numpy as np\n",
    "# 导入数据集\n",
    "dataSet = pd.read_table('testSet.txt',header=None)\n",
    "dataSet.columns = ['X1','X2','labels']"
   ]
  },
  {
   "cell_type": "code",
   "execution_count": 11,
   "metadata": {},
   "outputs": [
    {
     "data": {
      "text/html": [
       "<div>\n",
       "<style scoped>\n",
       "    .dataframe tbody tr th:only-of-type {\n",
       "        vertical-align: middle;\n",
       "    }\n",
       "\n",
       "    .dataframe tbody tr th {\n",
       "        vertical-align: top;\n",
       "    }\n",
       "\n",
       "    .dataframe thead th {\n",
       "        text-align: right;\n",
       "    }\n",
       "</style>\n",
       "<table border=\"1\" class=\"dataframe\">\n",
       "  <thead>\n",
       "    <tr style=\"text-align: right;\">\n",
       "      <th></th>\n",
       "      <th>X1</th>\n",
       "      <th>X2</th>\n",
       "      <th>labels</th>\n",
       "    </tr>\n",
       "  </thead>\n",
       "  <tbody>\n",
       "    <tr>\n",
       "      <th>0</th>\n",
       "      <td>-0.017612</td>\n",
       "      <td>14.053064</td>\n",
       "      <td>0</td>\n",
       "    </tr>\n",
       "    <tr>\n",
       "      <th>1</th>\n",
       "      <td>-1.395634</td>\n",
       "      <td>4.662541</td>\n",
       "      <td>1</td>\n",
       "    </tr>\n",
       "    <tr>\n",
       "      <th>2</th>\n",
       "      <td>-0.752157</td>\n",
       "      <td>6.538620</td>\n",
       "      <td>0</td>\n",
       "    </tr>\n",
       "    <tr>\n",
       "      <th>3</th>\n",
       "      <td>-1.322371</td>\n",
       "      <td>7.152853</td>\n",
       "      <td>0</td>\n",
       "    </tr>\n",
       "    <tr>\n",
       "      <th>4</th>\n",
       "      <td>0.423363</td>\n",
       "      <td>11.054677</td>\n",
       "      <td>0</td>\n",
       "    </tr>\n",
       "  </tbody>\n",
       "</table>\n",
       "</div>"
      ],
      "text/plain": [
       "         X1         X2  labels\n",
       "0 -0.017612  14.053064       0\n",
       "1 -1.395634   4.662541       1\n",
       "2 -0.752157   6.538620       0\n",
       "3 -1.322371   7.152853       0\n",
       "4  0.423363  11.054677       0"
      ]
     },
     "execution_count": 11,
     "metadata": {},
     "output_type": "execute_result"
    }
   ],
   "source": [
    "dataSet.head()"
   ]
  },
  {
   "cell_type": "code",
   "execution_count": 13,
   "metadata": {},
   "outputs": [],
   "source": [
    "'''\n",
    "定义辅助函数：\n",
    "函数功能：计算sigmoid函数值\n",
    "参数说明：\n",
    "    inX：数值型数据\n",
    "返回：\n",
    "    s：经过sigmoid函数计算后的函数值\n",
    "'''\n",
    "def sigmoid(inX):\n",
    "    s = 1/(1+ np.exp(-inX))\n",
    "    return s"
   ]
  },
  {
   "cell_type": "code",
   "execution_count": 28,
   "metadata": {},
   "outputs": [],
   "source": [
    "'''\n",
    "为什么要标准化，见（pdf）\n",
    "标准化函数\n",
    "函数功能：标准化（期望为0，方差为1）\n",
    "参数说明：\n",
    "    xMat：特征矩阵\n",
    "返回：\n",
    "    inMat: 标准化之后的特征函数\n",
    "'''\n",
    "def regularize(xMat):\n",
    "    inMat = xMat.copy()\n",
    "    inMeans = np.mean(inMat,axis = 0) # axix = 0 ,压缩行，对各列求均值，返回1*n的矩阵 \n",
    "    #print(inMeans)---->[[0.0300122 6.57611  ]]\n",
    "    inVar = np.std(inMat,axis = 0) #求每一列的标准差\n",
    "    #print(inVar)---->[[1.16447043 4.6216594 ]]\n",
    "    inMat = (inMat - inMeans)/inVar # 标准化\n",
    "    return inMat"
   ]
  },
  {
   "cell_type": "code",
   "execution_count": 49,
   "metadata": {},
   "outputs": [],
   "source": [
    "'''\n",
    "函数功能： 使用BGD求解逻辑回归\n",
    "\n",
    "使用的梯度下降法的矩阵方式（见pdf）\n",
    "\n",
    "参数说明：\n",
    "    dataSet ： DF数据集\n",
    "    alpha ： 步长\n",
    "    maxCycle：最大迭代次数\n",
    "返回：\n",
    "    weights： 各特征权重值\n",
    "'''\n",
    "def BGD_LR(dataSet,alpha = 0.001,maxCycles = 500):\n",
    "    xMat = np.mat(dataSet.iloc[:,:-1].values) # 提取出特征值\n",
    "    yMat = np.mat(dataSet.iloc[:,-1].values).T # 提取出标签的值并转置\n",
    "    xMat = regularize(xMat) # 标准化\n",
    "    m , n = xMat.shape # 行，列:100,2\n",
    "    weights = np.zeros((n,1)) # 生成一个n*1的列表\n",
    "    # print(weights)---->[[0.]\n",
    "    #                     [0.]\n",
    "    #                     ]\n",
    "    for i in range(maxCycles): # 迭代maxCycles次\n",
    "        grad = xMat.T * (xMat * weights - yMat) / m # 各个特征的梯度\n",
    "        weights = weights - alpha * grad # 更新权重值\n",
    "    return weights"
   ]
  },
  {
   "cell_type": "code",
   "execution_count": 53,
   "metadata": {},
   "outputs": [],
   "source": [
    "ws=BGD_LR(dataSet,alpha=0.01,maxCycles=500) \n",
    "xMat = np.mat(dataSet.iloc[:, :-1].values) \n",
    "yMat = np.mat(dataSet.iloc[:, -1].values).T \n",
    "xMat = regularize(xMat) \n"
   ]
  },
  {
   "cell_type": "code",
   "execution_count": 64,
   "metadata": {},
   "outputs": [],
   "source": [
    "'''\n",
    "函数功能：计算准确率\n",
    "参数说明：\n",
    "    dataSet:DF数据集\n",
    "    method：计算权重函数：方法名\n",
    "    alpha：步长\n",
    "    maxCycle：最大迭代次数\n",
    "返回：\n",
    "    准确率\n",
    "'''\n",
    "def logisticAcc(dataSet , method , alpha = 0.01, maxCycles = 500):\n",
    "    weights = method(dataSet , alpha = alpha , maxCycles = maxCycles)\n",
    "    xMat = dataSet.iloc[:,:-1].values # 提取所有特征\n",
    "    yMat = dataSet.iloc[:,-1].values # 提取所有标签\n",
    "    xMat = regularize(xMat) # 标准化\n",
    "    p = sigmoid(xMat * weights).A.flatten() # 将矩阵转为array并且折叠成一维的数组，\n",
    "    #但是该函数只能适用于numpy对象，即array或者mat，普通的list列表是不行的。 \n",
    "    for i,j in enumerate(p):\n",
    "        if j < 0.5:\n",
    "            p[i] = 0\n",
    "        else:\n",
    "            p[i] = 1 \n",
    "    train_error = (np.fabs(yMat - p)).sum() # 计算错误数\n",
    "    train_acc = 1 - train_error/yMat.shape[0] # 计算准确率\n",
    "    return train_acc"
   ]
  },
  {
   "cell_type": "code",
   "execution_count": 65,
   "metadata": {},
   "outputs": [
    {
     "data": {
      "text/plain": [
       "0.96"
      ]
     },
     "execution_count": 65,
     "metadata": {},
     "output_type": "execute_result"
    }
   ],
   "source": [
    "logisticAcc(dataSet,BGD_LR,alpha=0.01,maxCycles=500)"
   ]
  },
  {
   "cell_type": "markdown",
   "metadata": {},
   "source": [
    "使用SGD求解逻辑回归"
   ]
  },
  {
   "cell_type": "code",
   "execution_count": 66,
   "metadata": {},
   "outputs": [],
   "source": [
    "\n",
    "'''\n",
    "函数功能： 使用SGD求解逻辑回归\n",
    "\n",
    "使用的梯度下降法的矩阵方式（见pdf）\n",
    "\n",
    "参数说明：\n",
    "    dataSet ： DF数据集\n",
    "    alpha ： 步长\n",
    "    maxCycle：最大迭代次数\n",
    "返回：\n",
    "    weights： 各特征权重值\n",
    "'''\n",
    "def SGD_LR(dataSet,alpha = 0.001,maxCycles = 500):\n",
    "    dataSet = dataSet.sample(maxCycles,replace = True)\n",
    "    # maxCycles的含义是抽样的个数，是整数;smaple()函数中的replace参数的意思是：是否允许抽样值重复\n",
    "    dataSet.index = range(dataSet.shape[0]) # 重新编排索引值\n",
    "    xMat = np.mat(dataSet.iloc[:,:-1].values) # 提取出特征值\n",
    "    yMat = np.mat(dataSet.iloc[:,-1].values).T # 提取出标签的值并转置\n",
    "    xMat = regularize(xMat) # 标准化\n",
    "    m , n = xMat.shape # 行，列:100,2\n",
    "    weights = np.zeros((n,1)) # 生成一个n*1的列表\n",
    "    # print(weights)---->[[0.]\n",
    "    #                     [0.]\n",
    "    #                     ]\n",
    "    for i in range(m): # 迭代m次\n",
    "        grad = xMat.T * (xMat * weights - yMat) / m # 各个特征的梯度\n",
    "        weights = weights - alpha * grad # 更新权重值\n",
    "    return weights"
   ]
  },
  {
   "cell_type": "code",
   "execution_count": 67,
   "metadata": {},
   "outputs": [
    {
     "data": {
      "text/plain": [
       "0.96"
      ]
     },
     "execution_count": 67,
     "metadata": {},
     "output_type": "execute_result"
    }
   ],
   "source": [
    "logisticAcc(dataSet,SGD_LR,alpha=0.01,maxCycles=500)"
   ]
  },
  {
   "cell_type": "code",
   "execution_count": 70,
   "metadata": {},
   "outputs": [
    {
     "name": "stdout",
     "output_type": "stream",
     "text": [
      "BGD: 0.96\n",
      "SGD: 0.96\n"
     ]
    }
   ],
   "source": [
    "if __name__ == '__main__':\n",
    "        print(\"BGD:\",logisticAcc(dataSet,BGD_LR,alpha=0.01,maxCycles=500))\n",
    "        print(\"SGD:\",logisticAcc(dataSet,SGD_LR,alpha=0.01,maxCycles=500))"
   ]
  },
  {
   "cell_type": "code",
   "execution_count": null,
   "metadata": {},
   "outputs": [],
   "source": [
    "if __name__ == '__main__':\n",
    "    # 导入数据集\n",
    "    dataSet = pd.read_table('testSet.txt',header=None)\n",
    "    dataSet.columns = ['X1','X2','labels']\n",
    "    print(\"BGD:\",logisticAcc(dataSet,BGD_LR,alpha=0.01,maxCycles=500))\n",
    "    print(\"SGD:\",logisticAcc(dataSet,SGD_LR,alpha=0.01,maxCycles=500))"
   ]
  }
 ],
 "metadata": {
  "kernelspec": {
   "display_name": "Python 3",
   "language": "python",
   "name": "python3"
  },
  "language_info": {
   "codemirror_mode": {
    "name": "ipython",
    "version": 3
   },
   "file_extension": ".py",
   "mimetype": "text/x-python",
   "name": "python",
   "nbconvert_exporter": "python",
   "pygments_lexer": "ipython3",
   "version": "3.6.5"
  }
 },
 "nbformat": 4,
 "nbformat_minor": 2
}
