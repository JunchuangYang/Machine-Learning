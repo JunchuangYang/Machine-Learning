{
 "cells": [
  {
   "cell_type": "markdown",
   "metadata": {},
   "source": [
    "## 岭回归"
   ]
  },
  {
   "cell_type": "code",
   "execution_count": 1,
   "metadata": {},
   "outputs": [],
   "source": [
    "import numpy as np\n",
    "import pandas as pd\n",
    "import matplotlib.pyplot as plt\n",
    "plt.rcParams['font.sans-serif'] = ['simhei']\n",
    "%matplotlib inline"
   ]
  },
  {
   "cell_type": "code",
   "execution_count": 2,
   "metadata": {},
   "outputs": [],
   "source": [
    "def get_Mat(dataSet):\n",
    "    xMat = np.mat(dataSet.iloc[:,: -1].values)\n",
    "    yMat = np.mat(dataSet.iloc[:,-1].values).T\n",
    "    return xMat,yMat"
   ]
  },
  {
   "cell_type": "code",
   "execution_count": 3,
   "metadata": {},
   "outputs": [],
   "source": [
    "abalone = pd.read_table('abalone.txt',header = None)"
   ]
  },
  {
   "cell_type": "code",
   "execution_count": 4,
   "metadata": {},
   "outputs": [],
   "source": [
    "'''\n",
    "函数功能：求回归系数\n",
    "参数说明：\n",
    "    xMat：训练数据特征\n",
    "    yMat：训练数据标签\n",
    "    lam：公式中lambda的值\n",
    "返回：\n",
    "    ws：回归系数\n",
    "'''\n",
    "def ridgeRegres(xMat,yMat,lam=0.2):\n",
    "    xTx = xMat.T * xMat\n",
    "    denom = xTx + np.eye(np.shape(xMat)[1]) * lam\n",
    "    if np.linalg.det(denom) == 0:\n",
    "        print('行列式为0，奇异矩阵，不能做逆')\n",
    "        return\n",
    "    ws = denom.I * (xMat.T * yMat)\n",
    "    return ws"
   ]
  },
  {
   "cell_type": "code",
   "execution_count": 5,
   "metadata": {},
   "outputs": [],
   "source": [
    "'''\n",
    "函数功能：获取在不同λ下的回归系数\n",
    "参数说明：\n",
    "    xArr：训练数据的特征\n",
    "    yArr：训练数据的标签\n",
    "返回：\n",
    "    wMat：每个特征在不同λ下的回归系数\n",
    "'''\n",
    "def ridgeTest(xArr,yArr):\n",
    "    xMat = np.mat(xArr)\n",
    "    yMat = np.mat(yArr)\n",
    "    yMean = np.mean(yMat,0) # 该函数第二个参数（压缩）=0表示对各列求平均值得到1*n的矩阵，=1表示对给行求平均值m*1矩阵\n",
    "    yMat = yMat - yMean\n",
    "    xMeans = np.mean(xMat,0) \n",
    "    xVar = np.var(xMat,0) # 每一列 var方差，第二个参数=0表示求样本的无偏估计值(除以N-1)，=1求方差(除以N)   cov协方差\n",
    "    xMat = (xMat - xMeans)/xVar\n",
    "    # 上述代码是对xArr和yArr做标准化处理\n",
    "    \n",
    "    numTestPts = 30\n",
    "    wMat = np.zeros((numTestPts,np.shape(xMat)[1]))\n",
    "    \n",
    "    for i in range(numTestPts): # λ值改变\n",
    "        ws = ridgeRegres(xMat,yMat,np.exp(i-10))# 行列格式一样但处理了的数据集 ，行列格式一样但处理了的目标值 ， e的i-10次方\n",
    "        wMat[i,:] = ws.T # 将第i次每个特征的回归系数向量按行保存到30次测试的第i行\n",
    "    return wMat"
   ]
  },
  {
   "cell_type": "code",
   "execution_count": 6,
   "metadata": {},
   "outputs": [],
   "source": [
    "abX,abY = get_Mat(abalone)"
   ]
  },
  {
   "cell_type": "code",
   "execution_count": 7,
   "metadata": {},
   "outputs": [
    {
     "data": {
      "image/png": "[encoded data removed]",
      "text/plain": [
       "<Figure size 432x288 with 1 Axes>"
      ]
     },
     "metadata": {},
     "output_type": "display_data"
    }
   ],
   "source": [
    "ridgeWeights = ridgeTest(abX,abY)   # 返回 此处30次改变λ值后，得到的30行回归系数\n",
    "fig = plt.figure()              # 为了看到缩减（惩罚项）的效果而画图\n",
    "ax = fig.add_subplot(111)       # 及回归系数和惩罚项的关系\n",
    "ax.plot(ridgeWeights)       # 每列\n",
    "plt.show()"
   ]
  },
  {
   "cell_type": "markdown",
   "metadata": {},
   "source": [
    "下面是用第一个lambda算出来的回归系数，去预测鲍鱼年龄\n",
    "\n",
    "因为在使用岭回归时数据进行了标准化，所以在与预测应该也进行一些处理"
   ]
  },
  {
   "cell_type": "code",
   "execution_count": 26,
   "metadata": {},
   "outputs": [
    {
     "data": {
      "text/plain": [
       "matrix([[ 8.45714607],\n",
       "        [ 7.7313703 ],\n",
       "        [ 9.7904584 ],\n",
       "        ...,\n",
       "        [11.96518823],\n",
       "        [10.69977239],\n",
       "        [12.49630694]])"
      ]
     },
     "execution_count": 26,
     "metadata": {},
     "output_type": "execute_result"
    }
   ],
   "source": [
    "regularize(abX)*np.mat(ridgeWeights[23,:]).T+ np.mean(abY)"
   ]
  },
  {
   "cell_type": "markdown",
   "metadata": {},
   "source": [
    "对上图的解释：\n",
    "\n",
    "（按列绘制每个特征随λ变化得线条）\n",
    "该图绘出了每个回归系数与的关系，在最左边，即λ最小时，可以得到所有系数的原始值（与线性回归一致）；在右边，系数全部缩减成0；\n",
    "\n",
    "中间部分的某值可以取得最好得预测效果，为了定量得找到最佳参数值，需要进行交叉验证。\n",
    "\n",
    "另外需要判断哪些变量对数据预测最具影响力。（λ一般选择当所有线条趋于稳定得时候）"
   ]
  },
  {
   "cell_type": "markdown",
   "metadata": {},
   "source": [
    "## 前向逐步回归"
   ]
  },
  {
   "cell_type": "markdown",
   "metadata": {},
   "source": [
    "逐步前向回归可以得到与lasso差不多得效果，但更简单，它属于一种**贪心算法**，即每一步都尽可能减少误差，一开始，\n",
    "所有得权重都设置为1，然后每一步所做的决策时对某个权重增加或减少一个很小的值。"
   ]
  },
  {
   "cell_type": "code",
   "execution_count": 9,
   "metadata": {},
   "outputs": [],
   "source": [
    "'''\n",
    "函数功能：真实值和预测值 的平方误差和\n",
    "参数：\n",
    "    yArr：真实值\n",
    "    yHatArr：预测值\n",
    "返回：\n",
    "    平方误差和\n",
    "'''\n",
    "def rssError(yArr,yHatArr):\n",
    "    return ((yArr-yHatArr)**2).sum()"
   ]
  },
  {
   "cell_type": "code",
   "execution_count": 10,
   "metadata": {},
   "outputs": [],
   "source": [
    "'''\n",
    "函数功能：将数据标准化\n",
    "参数：\n",
    "    xMat：训练数据\n",
    "返回：\n",
    "    inMat：标准化后的数据\n",
    "'''\n",
    "def regularize(xMat):\n",
    "    inMat = xMat.copy()\n",
    "    inMeans = np.mean(inMat,0) #计算平均数，然后减去它\n",
    "    inVar = np.var(inMat,0)\n",
    "    inMat = (inMat-inMeans)/inVar\n",
    "    return inMat"
   ]
  },
  {
   "cell_type": "code",
   "execution_count": 11,
   "metadata": {},
   "outputs": [],
   "source": [
    "'''\n",
    "函数功能：前向逐步回归，不断地在新获得的权重上更新\n",
    "参数：\n",
    "     xArr：训练数据特征\n",
    "     yArr：训练数据标签\n",
    "     eps：更新步长\n",
    "     numIt：循环次数\n",
    "返回：\n",
    "    ws：回归系数\n",
    "'''\n",
    "def stageWise(xArr,yArr,eps=0.01,numIt=100):\n",
    "    xMat = np.mat(xArr)\n",
    "    yMat = np.mat(yArr)\n",
    "    yMean = np.mean(yMat,0) # 按列求均值\n",
    "    yMat = yMat - yMean\n",
    "    xMat = regularize(xMat) # 调用函数标准化数据 在岭回归中同样的处理但直接在函数中\n",
    "    m,n = np.shape(xMat)\n",
    "    ws = np.zeros((n,1))\n",
    "    wsTest = ws.copy()\n",
    "    wsMax = ws.copy()\n",
    "    \n",
    "    \n",
    "    for i in range(numIt): # 不断更新\n",
    "        #print(ws.T)  #打印出来便于观察每次权重的变化\n",
    "        lowerError = float('inf') # 初始化最大误差\n",
    "        for j in range(n): # 循环每个特征\n",
    "            for sign in [-1,1]: # 增大或减小\n",
    "                wsTest = ws.copy()\n",
    "                wsTest[j] += eps*sign # eps每次迭代的步长\n",
    "                yTest = xMat*wsTest\n",
    "                rssE = rssError(yMat.A,yTest.A)   # 预测值和真实值的误差\n",
    "                if rssE < lowerError:\n",
    "                    lowerError = rssE\n",
    "                    wsMax = wsTest # 更新wsMax，ws、wsMax、wsTest三者之间相互copy来保证每次结果的保留和更改\n",
    "\n",
    "        ws = wsMax.copy() # 当所有特征循环完了，找到错误最小的wsMax赋值给新的ws\n",
    "    return ws"
   ]
  },
  {
   "cell_type": "code",
   "execution_count": 12,
   "metadata": {},
   "outputs": [],
   "source": [
    "xArr,yArr = get_Mat(abalone)\n",
    "w=stageWise(xArr,yArr,0.01,300) "
   ]
  },
  {
   "cell_type": "code",
   "execution_count": 13,
   "metadata": {},
   "outputs": [
    {
     "data": {
      "text/plain": [
       "matrix([[15],\n",
       "        [ 7],\n",
       "        [ 9],\n",
       "        ...,\n",
       "        [ 9],\n",
       "        [10],\n",
       "        [12]], dtype=int64)"
      ]
     },
     "execution_count": 13,
     "metadata": {},
     "output_type": "execute_result"
    }
   ],
   "source": [
    "abY"
   ]
  },
  {
   "cell_type": "code",
   "execution_count": 14,
   "metadata": {},
   "outputs": [
    {
     "data": {
      "text/plain": [
       "matrix([[ 1.    ,  0.455 ,  0.365 , ...,  0.2245,  0.101 ,  0.15  ],\n",
       "        [ 1.    ,  0.35  ,  0.265 , ...,  0.0995,  0.0485,  0.07  ],\n",
       "        [-1.    ,  0.53  ,  0.42  , ...,  0.2565,  0.1415,  0.21  ],\n",
       "        ...,\n",
       "        [ 1.    ,  0.6   ,  0.475 , ...,  0.5255,  0.2875,  0.308 ],\n",
       "        [-1.    ,  0.625 ,  0.485 , ...,  0.531 ,  0.261 ,  0.296 ],\n",
       "        [ 1.    ,  0.71  ,  0.555 , ...,  0.9455,  0.3765,  0.495 ]])"
      ]
     },
     "execution_count": 14,
     "metadata": {},
     "output_type": "execute_result"
    }
   ],
   "source": [
    "abX"
   ]
  },
  {
   "cell_type": "markdown",
   "metadata": {},
   "source": [
    "使用前向逐步回归返回的回归系数去预测鲍鱼年龄，同样数据需要做响应的处理"
   ]
  },
  {
   "cell_type": "code",
   "execution_count": 15,
   "metadata": {},
   "outputs": [
    {
     "data": {
      "text/plain": [
       "matrix([[ 8.544082  ],\n",
       "        [ 7.309826  ],\n",
       "        [10.49429085],\n",
       "        ...,\n",
       "        [11.31489354],\n",
       "        [ 9.91545865],\n",
       "        [10.88843082]])"
      ]
     },
     "execution_count": 15,
     "metadata": {},
     "output_type": "execute_result"
    }
   ],
   "source": [
    "regularize(abX)*w + np.mean(abY)"
   ]
  },
  {
   "cell_type": "code",
   "execution_count": 29,
   "metadata": {},
   "outputs": [],
   "source": [
    "df1 = abalone = pd.read_table('abalone.txt',header = None)\n",
    "df1.columns=['性别','长度','直径','高度','整体重量','肉重量','内脏重量','壳重','年龄']"
   ]
  },
  {
   "cell_type": "code",
   "execution_count": 30,
   "metadata": {},
   "outputs": [],
   "source": [
    "df1['岭回归第1个λ预测']= regularize(abX)*np.mat(ridgeWeights[0,:]).T+ np.mean(abY)\n",
    "df1['岭回归第24个λ预测']= regularize(abX)*np.mat(ridgeWeights[23,:]).T+ np.mean(abY)\n",
    "df1['前向逐步回归预测']= regularize(abX)*w + np.mean(abY)"
   ]
  },
  {
   "cell_type": "code",
   "execution_count": 31,
   "metadata": {},
   "outputs": [
    {
     "data": {
      "text/html": [
       "<div>\n",
       "<style scoped>\n",
       "    .dataframe tbody tr th:only-of-type {\n",
       "        vertical-align: middle;\n",
       "    }\n",
       "\n",
       "    .dataframe tbody tr th {\n",
       "        vertical-align: top;\n",
       "    }\n",
       "\n",
       "    .dataframe thead th {\n",
       "        text-align: right;\n",
       "    }\n",
       "</style>\n",
       "<table border=\"1\" class=\"dataframe\">\n",
       "  <thead>\n",
       "    <tr style=\"text-align: right;\">\n",
       "      <th></th>\n",
       "      <th>性别</th>\n",
       "      <th>长度</th>\n",
       "      <th>直径</th>\n",
       "      <th>高度</th>\n",
       "      <th>整体重量</th>\n",
       "      <th>肉重量</th>\n",
       "      <th>内脏重量</th>\n",
       "      <th>壳重</th>\n",
       "      <th>年龄</th>\n",
       "      <th>岭回归第1个λ预测</th>\n",
       "      <th>岭回归第24个λ预测</th>\n",
       "      <th>前向逐步回归预测</th>\n",
       "    </tr>\n",
       "  </thead>\n",
       "  <tbody>\n",
       "    <tr>\n",
       "      <th>0</th>\n",
       "      <td>1</td>\n",
       "      <td>0.455</td>\n",
       "      <td>0.365</td>\n",
       "      <td>0.095</td>\n",
       "      <td>0.5140</td>\n",
       "      <td>0.2245</td>\n",
       "      <td>0.1010</td>\n",
       "      <td>0.150</td>\n",
       "      <td>15</td>\n",
       "      <td>8.837587</td>\n",
       "      <td>8.457146</td>\n",
       "      <td>8.544082</td>\n",
       "    </tr>\n",
       "    <tr>\n",
       "      <th>1</th>\n",
       "      <td>1</td>\n",
       "      <td>0.350</td>\n",
       "      <td>0.265</td>\n",
       "      <td>0.090</td>\n",
       "      <td>0.2255</td>\n",
       "      <td>0.0995</td>\n",
       "      <td>0.0485</td>\n",
       "      <td>0.070</td>\n",
       "      <td>7</td>\n",
       "      <td>7.294186</td>\n",
       "      <td>7.731370</td>\n",
       "      <td>7.309826</td>\n",
       "    </tr>\n",
       "    <tr>\n",
       "      <th>2</th>\n",
       "      <td>-1</td>\n",
       "      <td>0.530</td>\n",
       "      <td>0.420</td>\n",
       "      <td>0.135</td>\n",
       "      <td>0.6770</td>\n",
       "      <td>0.2565</td>\n",
       "      <td>0.1415</td>\n",
       "      <td>0.210</td>\n",
       "      <td>9</td>\n",
       "      <td>10.782984</td>\n",
       "      <td>9.790458</td>\n",
       "      <td>10.494291</td>\n",
       "    </tr>\n",
       "    <tr>\n",
       "      <th>3</th>\n",
       "      <td>1</td>\n",
       "      <td>0.440</td>\n",
       "      <td>0.365</td>\n",
       "      <td>0.125</td>\n",
       "      <td>0.5160</td>\n",
       "      <td>0.2155</td>\n",
       "      <td>0.1140</td>\n",
       "      <td>0.155</td>\n",
       "      <td>10</td>\n",
       "      <td>9.334215</td>\n",
       "      <td>9.157548</td>\n",
       "      <td>9.271071</td>\n",
       "    </tr>\n",
       "    <tr>\n",
       "      <th>4</th>\n",
       "      <td>0</td>\n",
       "      <td>0.330</td>\n",
       "      <td>0.255</td>\n",
       "      <td>0.080</td>\n",
       "      <td>0.2050</td>\n",
       "      <td>0.0895</td>\n",
       "      <td>0.0395</td>\n",
       "      <td>0.055</td>\n",
       "      <td>7</td>\n",
       "      <td>6.981514</td>\n",
       "      <td>7.409668</td>\n",
       "      <td>6.797688</td>\n",
       "    </tr>\n",
       "    <tr>\n",
       "      <th>5</th>\n",
       "      <td>0</td>\n",
       "      <td>0.425</td>\n",
       "      <td>0.300</td>\n",
       "      <td>0.095</td>\n",
       "      <td>0.3515</td>\n",
       "      <td>0.1410</td>\n",
       "      <td>0.0775</td>\n",
       "      <td>0.120</td>\n",
       "      <td>8</td>\n",
       "      <td>8.111111</td>\n",
       "      <td>8.162124</td>\n",
       "      <td>8.193909</td>\n",
       "    </tr>\n",
       "    <tr>\n",
       "      <th>6</th>\n",
       "      <td>-1</td>\n",
       "      <td>0.530</td>\n",
       "      <td>0.415</td>\n",
       "      <td>0.150</td>\n",
       "      <td>0.7775</td>\n",
       "      <td>0.2370</td>\n",
       "      <td>0.1415</td>\n",
       "      <td>0.330</td>\n",
       "      <td>20</td>\n",
       "      <td>13.248668</td>\n",
       "      <td>10.338147</td>\n",
       "      <td>13.318758</td>\n",
       "    </tr>\n",
       "    <tr>\n",
       "      <th>7</th>\n",
       "      <td>-1</td>\n",
       "      <td>0.545</td>\n",
       "      <td>0.425</td>\n",
       "      <td>0.125</td>\n",
       "      <td>0.7680</td>\n",
       "      <td>0.2940</td>\n",
       "      <td>0.1495</td>\n",
       "      <td>0.260</td>\n",
       "      <td>16</td>\n",
       "      <td>11.139983</td>\n",
       "      <td>9.685110</td>\n",
       "      <td>10.927698</td>\n",
       "    </tr>\n",
       "    <tr>\n",
       "      <th>8</th>\n",
       "      <td>1</td>\n",
       "      <td>0.475</td>\n",
       "      <td>0.370</td>\n",
       "      <td>0.125</td>\n",
       "      <td>0.5095</td>\n",
       "      <td>0.2165</td>\n",
       "      <td>0.1125</td>\n",
       "      <td>0.165</td>\n",
       "      <td>9</td>\n",
       "      <td>9.366153</td>\n",
       "      <td>9.234559</td>\n",
       "      <td>9.481227</td>\n",
       "    </tr>\n",
       "    <tr>\n",
       "      <th>9</th>\n",
       "      <td>-1</td>\n",
       "      <td>0.550</td>\n",
       "      <td>0.440</td>\n",
       "      <td>0.150</td>\n",
       "      <td>0.8945</td>\n",
       "      <td>0.3145</td>\n",
       "      <td>0.1510</td>\n",
       "      <td>0.320</td>\n",
       "      <td>19</td>\n",
       "      <td>12.884634</td>\n",
       "      <td>10.423289</td>\n",
       "      <td>12.505314</td>\n",
       "    </tr>\n",
       "  </tbody>\n",
       "</table>\n",
       "</div>"
      ],
      "text/plain": [
       "   性别     长度     直径     高度    整体重量     肉重量    内脏重量     壳重  年龄  岭回归第1个λ预测  \\\n",
       "0   1  0.455  0.365  0.095  0.5140  0.2245  0.1010  0.150  15   8.837587   \n",
       "1   1  0.350  0.265  0.090  0.2255  0.0995  0.0485  0.070   7   7.294186   \n",
       "2  -1  0.530  0.420  0.135  0.6770  0.2565  0.1415  0.210   9  10.782984   \n",
       "3   1  0.440  0.365  0.125  0.5160  0.2155  0.1140  0.155  10   9.334215   \n",
       "4   0  0.330  0.255  0.080  0.2050  0.0895  0.0395  0.055   7   6.981514   \n",
       "5   0  0.425  0.300  0.095  0.3515  0.1410  0.0775  0.120   8   8.111111   \n",
       "6  -1  0.530  0.415  0.150  0.7775  0.2370  0.1415  0.330  20  13.248668   \n",
       "7  -1  0.545  0.425  0.125  0.7680  0.2940  0.1495  0.260  16  11.139983   \n",
       "8   1  0.475  0.370  0.125  0.5095  0.2165  0.1125  0.165   9   9.366153   \n",
       "9  -1  0.550  0.440  0.150  0.8945  0.3145  0.1510  0.320  19  12.884634   \n",
       "\n",
       "   岭回归第24个λ预测   前向逐步回归预测  \n",
       "0    8.457146   8.544082  \n",
       "1    7.731370   7.309826  \n",
       "2    9.790458  10.494291  \n",
       "3    9.157548   9.271071  \n",
       "4    7.409668   6.797688  \n",
       "5    8.162124   8.193909  \n",
       "6   10.338147  13.318758  \n",
       "7    9.685110  10.927698  \n",
       "8    9.234559   9.481227  \n",
       "9   10.423289  12.505314  "
      ]
     },
     "execution_count": 31,
     "metadata": {},
     "output_type": "execute_result"
    }
   ],
   "source": [
    "df1.head(10)"
   ]
  },
  {
   "cell_type": "code",
   "execution_count": null,
   "metadata": {},
   "outputs": [],
   "source": []
  }
 ],
 "metadata": {
  "kernelspec": {
   "display_name": "Python 3",
   "language": "python",
   "name": "python3"
  },
  "language_info": {
   "codemirror_mode": {
    "name": "ipython",
    "version": 3
   },
   "file_extension": ".py",
   "mimetype": "text/x-python",
   "name": "python",
   "nbconvert_exporter": "python",
   "pygments_lexer": "ipython3",
   "version": "3.6.5"
  }
 },
 "nbformat": 4,
 "nbformat_minor": 2
}
