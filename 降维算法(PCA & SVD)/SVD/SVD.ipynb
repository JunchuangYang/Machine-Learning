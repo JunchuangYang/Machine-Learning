{
 "cells": [
  {
   "cell_type": "code",
   "execution_count": 2,
   "metadata": {},
   "outputs": [],
   "source": [
    "from numpy import *\n",
    "from numpy import linalg as la\n",
    "'''\n",
    "函数功能：计算欧式距离\n",
    "参数说明：\n",
    "    inA和inB都是列向量\n",
    "'''\n",
    "def ecludSim(inA,inB):\n",
    "    return 1.0/(1.0 + la.norm(inA - inB))\n",
    "\n",
    "'''\n",
    "函数功能：计算皮尔斯相关系数\n",
    "'''\n",
    "def pearsSim(inA , inB):\n",
    "    if len(inA) < 3:\n",
    "        return 1.0\n",
    "    return 0.5 + 0.5*corrcoef(inA , inB , rowvar = 0)[0][1]\n",
    "\n",
    "'''\n",
    "函数功能：计算余弦相似度\n",
    "'''\n",
    "def cosSim(inA , inB):\n",
    "    num = float(inA.T * inB)\n",
    "    denom = la.norm(inA) * la.norm(inB)\n",
    "    return 0.5 + 0.5*(num/denom)"
   ]
  },
  {
   "cell_type": "code",
   "execution_count": 20,
   "metadata": {},
   "outputs": [],
   "source": [
    "'''\n",
    "函数功能：用来计算在给定相似度计算方法的条件下，用户对物品的估计评分值\n",
    "参数说明：\n",
    "    dataMat：数据矩阵\n",
    "    user：用户编号\n",
    "    simMeas：相似度计算方法\n",
    "    item：物品编号\n",
    "返回：预测评分值\n",
    "'''\n",
    "def standEst(dataMat , user , simMeas , item):\n",
    "    # 数据集中物品的数目\n",
    "    n = shape(dataMat)[1]\n",
    "    # 对两个用于计算估计评分值的变量进行初始化\n",
    "    simTotal = 0.0\n",
    "    ratSimTotal = 0.0\n",
    "    # 遍历行中的每个物品\n",
    "    for j in range(n):\n",
    "        userRating = dataMat[user,j]\n",
    "        # 评分值为0，意味着用户没有对该物品评分\n",
    "        if userRating == 0:\n",
    "            continue\n",
    "        #寻找两个用户都评级过的商品，变量overlap给出的是两个物品当中已经评分的那个元素\n",
    "        overLap = nonzero(logical_and(dataMat[:,item].A > 0 , dataMat[:,j].A) > 0)[0]\n",
    "        # 若两者没有任何重合元素，则相似度为0且终止本次循环0\n",
    "        if len(overLap) == 0:\n",
    "            similarity = 0\n",
    "        #如果存在重合的物品，则基于这些重合物品计算相似度\n",
    "        else:\n",
    "            similarity = simMeas(dataMat[overLap,item],dataMat[overLap,j])\n",
    "        # 随后相似度不断累加\n",
    "        simTotal += similarity\n",
    "        ratSimTotal += similarity * userRating\n",
    "        \n",
    "    if simTotal ==0:\n",
    "        return 0\n",
    "    else:\n",
    "        # 通过除以所有的评分总和，对上述相似度评分的乘积进行归一化。这使得评分值在0-5之间，\n",
    "        # 而这些评分值则用于对预测值进行排序\n",
    "        return ratSimTotal / simTotal\n",
    "        \n",
    "        \n",
    "        "
   ]
  },
  {
   "cell_type": "code",
   "execution_count": 21,
   "metadata": {},
   "outputs": [],
   "source": [
    "'''\n",
    "函数功能：推荐引擎，产生相似度最高的N个结果\n",
    "参数说明：\n",
    "    dataMat：数据集（用户*物品）\n",
    "    uset：给定的用户\n",
    "    N：几个推荐结果\n",
    "    simMeas: 相似度计算\n",
    "    estMethod：估计方法\n",
    "返回：\n",
    "    相似度最高的N个结果\n",
    "'''\n",
    "def recommend(dataMat , user , N=3, simMeaas = cosSim , estMethod = standEst):\n",
    "    # 寻找未评级的物品，对给定用户建立一个未评级的物品列表\n",
    "    unratedItems = nonzero(dataMat[user,:]== 0)[1]\n",
    "    # 如果不存在未评级的物品，退出函数，否则在所有未评分物品上进行循环\n",
    "    if len(unratedItems) == 0:\n",
    "        return  'you rated everything'\n",
    "    itemScores = []\n",
    "    for item in unratedItems:\n",
    "        # 对于每个未评分的物品，通过调用standEst（）来产生该物品的预测评分\n",
    "        estimatedScore = estMethod(dataMat , user , simMeaas , item)\n",
    "        # 该物品的编号和估计得分值会放在一个元素列表itemScores中\n",
    "        itemScores.append((item,estimatedScore))\n",
    "        \n",
    "    return sorted(itemScores,key = lambda j:j[1],reverse= True)[:N]"
   ]
  },
  {
   "cell_type": "code",
   "execution_count": 22,
   "metadata": {},
   "outputs": [],
   "source": [
    "def loadExData() :\n",
    "    return [[1, 1, 1, 0, 0],\n",
    "            [2, 2, 2, 0, 0],\n",
    "            [1, 1, 1, 0, 0],\n",
    "            [5, 5, 5, 0, 0],\n",
    "            [1, 1, 0, 2, 2],\n",
    "            [0, 0, 0, 3, 3],\n",
    "            [0, 0, 0, 1, 1]]"
   ]
  },
  {
   "cell_type": "code",
   "execution_count": 23,
   "metadata": {},
   "outputs": [
    {
     "data": {
      "text/plain": [
       "matrix([[4, 4, 1, 0, 0],\n",
       "        [4, 2, 2, 0, 0],\n",
       "        [4, 1, 1, 0, 0],\n",
       "        [5, 5, 5, 2, 0],\n",
       "        [1, 1, 0, 2, 2],\n",
       "        [0, 0, 0, 3, 3],\n",
       "        [0, 0, 0, 1, 1]])"
      ]
     },
     "execution_count": 23,
     "metadata": {},
     "output_type": "execute_result"
    }
   ],
   "source": [
    "myMat=mat(loadExData())\n",
    "myMat[0,1]=myMat[0,0]=myMat[1,0]=myMat[2,0]=4\n",
    "myMat[3,3]=2\n",
    "myMat"
   ]
  },
  {
   "cell_type": "code",
   "execution_count": 24,
   "metadata": {},
   "outputs": [
    {
     "data": {
      "text/plain": [
       "[(4, 2.5), (3, 1.9703483892927431)]"
      ]
     },
     "execution_count": 24,
     "metadata": {},
     "output_type": "execute_result"
    }
   ],
   "source": [
    "recommend(myMat,2)"
   ]
  },
  {
   "cell_type": "code",
   "execution_count": 25,
   "metadata": {},
   "outputs": [],
   "source": [
    "def loadExData2():\n",
    "    return[[0, 0, 0, 0, 0, 4, 0, 0, 0, 0, 5],\n",
    "           [0, 0, 0, 3, 0, 4, 0, 0, 0, 0, 3],\n",
    "           [0, 0, 0, 0, 4, 0, 0, 1, 0, 4, 0],\n",
    "           [3, 3, 4, 0, 0, 0, 0, 2, 2, 0, 0],\n",
    "           [5, 4, 5, 0, 0, 0, 0, 5, 5, 0, 0],\n",
    "           [0, 0, 0, 0, 5, 0, 1, 0, 0, 5, 0],\n",
    "           [4, 3, 4, 0, 0, 0, 0, 5, 5, 0, 1],\n",
    "           [0, 0, 0, 4, 0, 4, 0, 0, 0, 0, 4],\n",
    "           [0, 0, 0, 2, 0, 2, 5, 0, 0, 1, 2],\n",
    "           [0, 0, 0, 0, 5, 0, 0, 0, 0, 4, 0],\n",
    "           [1, 0, 0, 0, 0, 0, 0, 1, 2, 0, 0]]"
   ]
  },
  {
   "cell_type": "code",
   "execution_count": 27,
   "metadata": {},
   "outputs": [],
   "source": [
    "# 接下来计算该矩阵的SVD来了解其到底需要多少维特征。\n",
    "U , Sigma , VT = la.svd(mat(loadExData2()))"
   ]
  },
  {
   "cell_type": "code",
   "execution_count": 28,
   "metadata": {},
   "outputs": [
    {
     "data": {
      "text/plain": [
       "array([15.77075346, 11.40670395, 11.03044558,  4.84639758,  3.09292055,\n",
       "        2.58097379,  1.00413543,  0.72817072,  0.43800353,  0.22082113,\n",
       "        0.07367823])"
      ]
     },
     "execution_count": 28,
     "metadata": {},
     "output_type": "execute_result"
    }
   ],
   "source": [
    "Sigma"
   ]
  },
  {
   "cell_type": "code",
   "execution_count": 30,
   "metadata": {},
   "outputs": [
    {
     "name": "stdout",
     "output_type": "stream",
     "text": [
      "总能量： 541.9999999999995\n",
      "总能量的90%： 487.7999999999996\n",
      "前两个元素的能量： 378.8295595113579\n",
      "前三个元素的能量： 500.5002891275793\n"
     ]
    }
   ],
   "source": [
    "# 对Sigma中的值求平方\n",
    "Sig2 = Sigma**2\n",
    "print(\"总能量：\",sum(Sig2))\n",
    "print(\"总能量的90%：\",sum(Sig2)*0.9)\n",
    "print(\"前两个元素的能量：\",sum(Sig2[:2]))\n",
    "print(\"前三个元素的能量：\",sum(Sig2[:3]))"
   ]
  },
  {
   "cell_type": "markdown",
   "metadata": {},
   "source": [
    "前三个元素所包含的总能量符合要求，可以将一个11维的矩阵转换成一个3维矩阵。  \n",
    "下面对转换后的三维空间构造出一个相似度计算函数。  \n",
    "利用SVD将所有的菜肴映射到一个低维空间中去。在低维空间下，可以利用前面相同的相似度计算方法来进行推荐。  \n",
    "构建一个类似于standEst()的函数svdEst()。"
   ]
  },
  {
   "cell_type": "code",
   "execution_count": 32,
   "metadata": {},
   "outputs": [],
   "source": [
    "'''\n",
    "函数功能：基于SVD的评分估计\n",
    "参数说明：\n",
    "    dataMat：数据矩阵\n",
    "    user：用户编号\n",
    "    simMeas:相似度计算\n",
    "    item：物品编号\n",
    "    \n",
    "\n",
    "在recommend()中，svdEst用户替换对standEst()的调用，该函数对给定用户物品构建一个评分估计值。\n",
    "与standEst()非常相似，不同之处就在于它在第3行对数据集进行了SVD分解。在SVD分解后，只利用包含\n",
    "90%能量值的奇异值，这些奇异值以Numpy数组的形式得以保存。\n",
    "'''\n",
    "\n",
    "def svdEst(dataMat, user, simMeas, item) :\n",
    "    n = shape(dataMat)[1]\n",
    "    simTotal = 0.0; ratSimTotal = 0.0\n",
    "    U,Sigma,VT = la.svd(dataMat)\n",
    "    # 使用奇异值构建一个对角矩阵\n",
    "    Sig4 = mat(eye(4)*Sigma[:4])\n",
    "    # 利用U矩阵将物品转换到低维空间中\n",
    "    # 转置后变成 物品*用户\n",
    "    xformedItems = dataMat.T * U[:, :4] * Sig4.I\n",
    "    # 对于给定的用户，for循环在用户对应行的所有元素上进行遍历，与standEst()函数中的for循环目的一样\n",
    "    # 不同的是，这里的相似度是在低维空间下进行的。相似度的计算方法也会作为一个参数传递给该函数\n",
    "    for j in range(n) :\n",
    "        userRating = dataMat[user,j]\n",
    "        if userRating == 0 or j == item : continue\n",
    "        similarity = simMeas(xformedItems[item, :].T, xformedItems[j, :].T)# 计算相似度时在转置回来\n",
    "        # print便于了解相似度计算的进展情况\n",
    "        print ('the %d and %d similarity is : %f' % (item, j, similarity))\n",
    "        # 对相似度求和\n",
    "        simTotal += similarity\n",
    "        # 对相似度及评分值的乘积求和\n",
    "        ratSimTotal += similarity * userRating\n",
    "    if simTotal == 0 : return 0\n",
    "    else : return ratSimTotal/simTotal"
   ]
  },
  {
   "cell_type": "markdown",
   "metadata": {},
   "source": [
    "# 示例：基于SVD的图像压缩\n",
    "\n",
    "接下来，是一个关于如何SVD应用于图像压缩的例子。\n",
    "\n",
    "通过可视化的方式，该例子使我们很容易就能看到SVD对数据近似的效果。在代码库中，包含了一张手写的数字图像。\n",
    "\n",
    "该图像在第二章使用过。原始图像大小是32x32=1024像素，我们能否使用更少的像素来表示这张图呢？\n",
    "\n",
    "如果能对图像进行压缩，那么就可以节省空间或带宽开销了。\n",
    "\n",
    "可以使用SVD来对数据降维，从而实现图像的压缩。\n",
    "\n",
    "下面就会看到利用SVD的手写数字图像的压缩过程了。\n",
    "\n",
    "下面的程序包含了数字的读入和压缩代码。要了解最后的压缩效果，对压缩后的图像进行了重构。\n"
   ]
  },
  {
   "cell_type": "code",
   "execution_count": 34,
   "metadata": {},
   "outputs": [],
   "source": [
    "'''\n",
    "函数功能： 图像压缩函数，用于打印矩阵\n",
    "由于矩阵含有浮点数，因此必须定义浅色和深色。这里通过一个阈值来界定。\n",
    "该函数遍历所有的矩阵元素，当元素大于阈值时打印1，否则打印0\n",
    "参数说明：\n",
    "    intMat：数据矩阵\n",
    "    thresh：阈值\n",
    "'''\n",
    "def printMat(intMat , thresh = 0.8):\n",
    "    for i in range(32):\n",
    "        for k in range(32):\n",
    "            if float(intMat[i,k]) > thresh:\n",
    "                print ('1')\n",
    "            else:\n",
    "                print ('0')\n",
    "            print (' ')"
   ]
  },
  {
   "cell_type": "code",
   "execution_count": 36,
   "metadata": {},
   "outputs": [],
   "source": [
    "'''\n",
    "函数功能：实现了图像的压缩。它允许基于任意给定的奇异值数目来重构图像\n",
    "参数说明：\n",
    "    numSV：奇异值数目\n",
    "    thresh：阈值\n",
    "'''\n",
    "def imgCompress(numSV = 3,thresh = 0.8):\n",
    "    myl = [] # 构建一个列表myl\n",
    "    # 打开文本文件，以数值方式读入字符\n",
    "    for line in open('xxx.txt').readlines():\n",
    "        newRow = [] \n",
    "        for i in range(32):\n",
    "            newRow.append(int(line[i]))\n",
    "        myl.append(newRow)\n",
    "    myMat = mat(myl)\n",
    "    # 输入矩阵\n",
    "    print ('********original matrix*******')\n",
    "    printMat(myMat,thresh)\n",
    "    # 对原始图像进行SVD分解并重构图像，通过将Sigma重构成SigRecon来实现\n",
    "    U , Sigma , VT = la.svd(myMat)\n",
    "    # Sigma是一个对角矩阵，需要建立一个全0矩阵，然后将前面的那些奇异值填充到对角线上。\n",
    "    SigRecon = mat(zeros((numSV,numSV)))\n",
    "    \n",
    "    for k in range(numSV):\n",
    "        SigRecon[k,k] = Sigma[k]\n",
    "        \n",
    "    # 通过截断的U和VT矩阵，用SigRecon得到重构后的矩阵\n",
    "    reconMat = U[:,:numSV]*SigRecon*VT[:numSV,:]\n",
    "    print (\"******reconstructed matrix using %d singular values******\" % numSV)\n",
    "    printMat(reconMat, thresh)\n"
   ]
  },
  {
   "cell_type": "markdown",
   "metadata": {},
   "source": [
    "SVD两个个人觉得最重要的计算步骤这里说一下：\n",
    "\n",
    "数据集降维：    这里的sigma为对角矩阵（需要利用原来svd返回的sigma向量构建矩阵，构建需要使用count这个值）。U为svd返回的左奇异矩阵，count为我们指定的多少个奇异值，这也是sigma矩阵的维数。\n",
    "\n",
    "重构数据集：    这里的sigma同样为对角矩阵（需要利用原来svd返回的sigma向量构建矩阵，构建需要使用count这个值），VT为svd返回的右奇异矩阵，count为我们指定的多少个奇异值（可以按能量90%规则选取）。\n",
    "\n",
    "--------------------- \n",
    "原文：https://blog.csdn.net/qq_36523839/article/details/82347332 ！"
   ]
  },
  {
   "cell_type": "code",
   "execution_count": null,
   "metadata": {},
   "outputs": [],
   "source": []
  }
 ],
 "metadata": {
  "kernelspec": {
   "display_name": "Python 3",
   "language": "python",
   "name": "python3"
  },
  "language_info": {
   "codemirror_mode": {
    "name": "ipython",
    "version": 3
   },
   "file_extension": ".py",
   "mimetype": "text/x-python",
   "name": "python",
   "nbconvert_exporter": "python",
   "pygments_lexer": "ipython3",
   "version": "3.6.5"
  }
 },
 "nbformat": 4,
 "nbformat_minor": 2
}
